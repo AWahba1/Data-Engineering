{
 "cells": [
  {
   "cell_type": "markdown",
   "metadata": {},
   "source": [
    "# Milestone 1 - EDA and Preprocessing data "
   ]
  },
  {
   "cell_type": "markdown",
   "metadata": {},
   "source": [
    "***Important note*** - This is merely a template. you are more than free to change how it looks or create one from scratch."
   ]
  },
  {
   "cell_type": "markdown",
   "metadata": {},
   "source": [
    "- Load dataset\n",
    "- Explore the dataset and ask atleast 5 questions to give you a better understanding of the data provided to you. \n",
    "- Visualise the answer to these 5 questions.\n",
    "- Cleaning the data\n",
    "    - Tidy up the column names, make sure there is no spaces\n",
    "    - Observe,comment on and handle inconsistent data.(i.e duplicates, irrelevant data,incorrect data,etc)\n",
    "    - Observe missing data and comment on why you believe it is missing(MCAR,MAR or MNAR).\n",
    "    - Handle missing data\n",
    "    - Observe and comment on outliers\n",
    "    - Handle outliers\n",
    "- With every change you are making to the data you need to comment on why you used this technique and how has it affected the data(by both showing the change in the data i.e change in number of rows/columns,change in distrubution, etc and commenting on it).\n",
    "- Data transformation and feature engineering\n",
    "    - Add 2 new columns named 'Week number' and 'Date range' and discretize the data into weeks according to the dates. \n",
    "        - Tip: Change the datatype of the date feature to datetime type instead of object.\n",
    "    - Encode any categorical feature(s) and comment on why you used this technique and how the data has changed.\n",
    "    - If exists , Identify feature(s) which need normalization and show your reasoning. Then choose a technique to normalize the feature(s) and comment on why you chose this technique.\n",
    "- Additional data extraction\n",
    "    - Add GPS coordinates for the cities/locations.\n",
    "    - For this task you can extract the GPS coordinates from an API or web scraping and integrate into your csv file as new features. \n",
    "    - Tip 1 - you can find the web scraping and data integration notebooks under 'additional resources'  on the CMS useful.\n",
    "    - Tip 2 - If you are going to use an API make sure you do not make request for each existing row but rather group by the cities and get their respective coordinates. Making a request for each row is too inefficient and expensive.\n",
    "    - Tip 3 - Rather than running the code for calling the API each time you load the notebook, the first time you call the API save the results in a csv file and then you could you check if a csv file exists for the GPS coordinates, if so, load directly and don't call APi. Same applies for web scraping.\n",
    "\n",
    "- Lookup table and load back into new csv file\n",
    "    - Create a lookup table\n",
    "    - Load the new dataset into a new csv file named `green_trip_data_{year}-{month}clean.csv`. replace year and month with the appropriate values.\n",
    "    - Load the lookup table to a csv file called `lookup_table_green_taxis.csv` \n",
    "- Bonus: Load the dataset as a parquet file instead of a csv file(Parquet file is a compressed file format)."
   ]
  },
  {
   "cell_type": "markdown",
   "metadata": {},
   "source": [
    "# EDA"
   ]
  },
  {
   "cell_type": "code",
   "execution_count": 262,
   "metadata": {},
   "outputs": [],
   "source": [
    "import pandas as pd\n",
    "import matplotlib.pyplot as plt\n",
    "import seaborn as sns\n",
    "import numpy as np\n",
    "import math\n"
   ]
  },
  {
   "cell_type": "code",
   "execution_count": 160,
   "metadata": {},
   "outputs": [],
   "source": [
    "def load_dataset(path, file_name):\n",
    "    return pd.read_csv(path + file_name)"
   ]
  },
  {
   "cell_type": "code",
   "execution_count": 322,
   "metadata": {},
   "outputs": [],
   "source": [
    "taxis_df = load_dataset('./','green_tripdata_2015-04.csv')"
   ]
  },
  {
   "cell_type": "code",
   "execution_count": 162,
   "metadata": {},
   "outputs": [
    {
     "data": {
      "text/html": [
       "<div>\n",
       "<style scoped>\n",
       "    .dataframe tbody tr th:only-of-type {\n",
       "        vertical-align: middle;\n",
       "    }\n",
       "\n",
       "    .dataframe tbody tr th {\n",
       "        vertical-align: top;\n",
       "    }\n",
       "\n",
       "    .dataframe thead th {\n",
       "        text-align: right;\n",
       "    }\n",
       "</style>\n",
       "<table border=\"1\" class=\"dataframe\">\n",
       "  <thead>\n",
       "    <tr style=\"text-align: right;\">\n",
       "      <th></th>\n",
       "      <th>Vendor</th>\n",
       "      <th>lpep pickup datetime</th>\n",
       "      <th>lpep dropoff datetime</th>\n",
       "      <th>store and fwd flag</th>\n",
       "      <th>Rate type</th>\n",
       "      <th>PU Location</th>\n",
       "      <th>DO Location</th>\n",
       "      <th>passenger count</th>\n",
       "      <th>trip distance</th>\n",
       "      <th>fare amount</th>\n",
       "      <th>extra</th>\n",
       "      <th>mta tax</th>\n",
       "      <th>tip amount</th>\n",
       "      <th>tolls amount</th>\n",
       "      <th>ehail fee</th>\n",
       "      <th>improvement surcharge</th>\n",
       "      <th>total amount</th>\n",
       "      <th>payment type</th>\n",
       "      <th>trip type</th>\n",
       "      <th>congestion surcharge</th>\n",
       "    </tr>\n",
       "  </thead>\n",
       "  <tbody>\n",
       "    <tr>\n",
       "      <th>0</th>\n",
       "      <td>Creative Mobile Technologies, LLC</td>\n",
       "      <td>2015-04-01 00:26:00</td>\n",
       "      <td>2015-04-01 00:27:14</td>\n",
       "      <td>N</td>\n",
       "      <td>Standard rate</td>\n",
       "      <td>Queens,Long Island City/Hunters Point</td>\n",
       "      <td>Queens,Long Island City/Hunters Point</td>\n",
       "      <td>1.0</td>\n",
       "      <td>8.30</td>\n",
       "      <td>3.0</td>\n",
       "      <td>0.5</td>\n",
       "      <td>0.5</td>\n",
       "      <td>0.00</td>\n",
       "      <td>0.0</td>\n",
       "      <td>NaN</td>\n",
       "      <td>0.3</td>\n",
       "      <td>4.30</td>\n",
       "      <td>Cash</td>\n",
       "      <td>Street-hail</td>\n",
       "      <td>NaN</td>\n",
       "    </tr>\n",
       "    <tr>\n",
       "      <th>1</th>\n",
       "      <td>VeriFone Inc.</td>\n",
       "      <td>2015-04-01 00:17:41</td>\n",
       "      <td>2015-04-01 00:19:45</td>\n",
       "      <td>N</td>\n",
       "      <td>Standard rate</td>\n",
       "      <td>Queens,Long Island City/Queens Plaza</td>\n",
       "      <td>Queens,Long Island City/Queens Plaza</td>\n",
       "      <td>1.0</td>\n",
       "      <td>0.00</td>\n",
       "      <td>3.5</td>\n",
       "      <td>0.5</td>\n",
       "      <td>0.5</td>\n",
       "      <td>0.00</td>\n",
       "      <td>0.0</td>\n",
       "      <td>NaN</td>\n",
       "      <td>0.3</td>\n",
       "      <td>4.80</td>\n",
       "      <td>Cash</td>\n",
       "      <td>Street-hail</td>\n",
       "      <td>NaN</td>\n",
       "    </tr>\n",
       "    <tr>\n",
       "      <th>2</th>\n",
       "      <td>VeriFone Inc.</td>\n",
       "      <td>2015-04-01 00:01:25</td>\n",
       "      <td>2015-04-01 00:11:22</td>\n",
       "      <td>N</td>\n",
       "      <td>Standard rate</td>\n",
       "      <td>Brooklyn,Williamsburg (North Side)</td>\n",
       "      <td>Manhattan,Alphabet City</td>\n",
       "      <td>1.0</td>\n",
       "      <td>2.41</td>\n",
       "      <td>10.0</td>\n",
       "      <td>0.5</td>\n",
       "      <td>0.5</td>\n",
       "      <td>2.26</td>\n",
       "      <td>0.0</td>\n",
       "      <td>NaN</td>\n",
       "      <td>0.3</td>\n",
       "      <td>13.56</td>\n",
       "      <td>Credit card</td>\n",
       "      <td>Street-hail</td>\n",
       "      <td>NaN</td>\n",
       "    </tr>\n",
       "    <tr>\n",
       "      <th>3</th>\n",
       "      <td>VeriFone Inc.</td>\n",
       "      <td>2015-04-01 00:30:16</td>\n",
       "      <td>2015-04-01 00:55:27</td>\n",
       "      <td>N</td>\n",
       "      <td>Standard rate</td>\n",
       "      <td>Brooklyn,Williamsburg (North Side)</td>\n",
       "      <td>Manhattan,Times Sq/Theatre District</td>\n",
       "      <td>1.0</td>\n",
       "      <td>6.17</td>\n",
       "      <td>21.5</td>\n",
       "      <td>0.5</td>\n",
       "      <td>0.5</td>\n",
       "      <td>4.56</td>\n",
       "      <td>0.0</td>\n",
       "      <td>NaN</td>\n",
       "      <td>0.3</td>\n",
       "      <td>27.36</td>\n",
       "      <td>Credit card</td>\n",
       "      <td>Street-hail</td>\n",
       "      <td>NaN</td>\n",
       "    </tr>\n",
       "    <tr>\n",
       "      <th>4</th>\n",
       "      <td>VeriFone Inc.</td>\n",
       "      <td>2015-04-01 00:19:05</td>\n",
       "      <td>2015-04-01 00:39:33</td>\n",
       "      <td>N</td>\n",
       "      <td>Standard rate</td>\n",
       "      <td>Brooklyn,East Williamsburg</td>\n",
       "      <td>Manhattan,Clinton East</td>\n",
       "      <td>1.0</td>\n",
       "      <td>6.51</td>\n",
       "      <td>21.0</td>\n",
       "      <td>0.5</td>\n",
       "      <td>0.5</td>\n",
       "      <td>3.00</td>\n",
       "      <td>0.0</td>\n",
       "      <td>NaN</td>\n",
       "      <td>0.3</td>\n",
       "      <td>25.30</td>\n",
       "      <td>Credit card</td>\n",
       "      <td>Street-hail</td>\n",
       "      <td>NaN</td>\n",
       "    </tr>\n",
       "    <tr>\n",
       "      <th>5</th>\n",
       "      <td>VeriFone Inc.</td>\n",
       "      <td>2015-04-01 00:05:52</td>\n",
       "      <td>2015-04-01 00:09:42</td>\n",
       "      <td>N</td>\n",
       "      <td>Standard rate</td>\n",
       "      <td>Brooklyn,Bedford</td>\n",
       "      <td>Brooklyn,Stuyvesant Heights</td>\n",
       "      <td>1.0</td>\n",
       "      <td>0.90</td>\n",
       "      <td>5.0</td>\n",
       "      <td>0.5</td>\n",
       "      <td>0.5</td>\n",
       "      <td>0.00</td>\n",
       "      <td>0.0</td>\n",
       "      <td>NaN</td>\n",
       "      <td>0.3</td>\n",
       "      <td>6.30</td>\n",
       "      <td>Cash</td>\n",
       "      <td>Street-hail</td>\n",
       "      <td>NaN</td>\n",
       "    </tr>\n",
       "    <tr>\n",
       "      <th>6</th>\n",
       "      <td>VeriFone Inc.</td>\n",
       "      <td>2015-04-01 00:14:54</td>\n",
       "      <td>2015-04-01 00:44:42</td>\n",
       "      <td>N</td>\n",
       "      <td>Standard rate</td>\n",
       "      <td>Brooklyn,Bedford</td>\n",
       "      <td>Brooklyn,Sheepshead Bay</td>\n",
       "      <td>1.0</td>\n",
       "      <td>7.17</td>\n",
       "      <td>24.5</td>\n",
       "      <td>0.5</td>\n",
       "      <td>0.5</td>\n",
       "      <td>0.00</td>\n",
       "      <td>0.0</td>\n",
       "      <td>NaN</td>\n",
       "      <td>0.3</td>\n",
       "      <td>25.80</td>\n",
       "      <td>Cash</td>\n",
       "      <td>Street-hail</td>\n",
       "      <td>NaN</td>\n",
       "    </tr>\n",
       "    <tr>\n",
       "      <th>7</th>\n",
       "      <td>VeriFone Inc.</td>\n",
       "      <td>2015-04-01 00:34:17</td>\n",
       "      <td>2015-04-01 00:37:14</td>\n",
       "      <td>N</td>\n",
       "      <td>Standard rate</td>\n",
       "      <td>Brooklyn,East Williamsburg</td>\n",
       "      <td>Brooklyn,East Williamsburg</td>\n",
       "      <td>1.0</td>\n",
       "      <td>0.65</td>\n",
       "      <td>4.5</td>\n",
       "      <td>0.5</td>\n",
       "      <td>0.5</td>\n",
       "      <td>1.16</td>\n",
       "      <td>0.0</td>\n",
       "      <td>NaN</td>\n",
       "      <td>0.3</td>\n",
       "      <td>6.96</td>\n",
       "      <td>Credit card</td>\n",
       "      <td>Street-hail</td>\n",
       "      <td>NaN</td>\n",
       "    </tr>\n",
       "    <tr>\n",
       "      <th>8</th>\n",
       "      <td>Creative Mobile Technologies, LLC</td>\n",
       "      <td>2015-04-01 00:38:22</td>\n",
       "      <td>2015-04-01 00:40:28</td>\n",
       "      <td>N</td>\n",
       "      <td>Standard rate</td>\n",
       "      <td>Brooklyn,Fort Greene</td>\n",
       "      <td>Brooklyn,Clinton Hill</td>\n",
       "      <td>1.0</td>\n",
       "      <td>0.70</td>\n",
       "      <td>4.0</td>\n",
       "      <td>0.5</td>\n",
       "      <td>0.5</td>\n",
       "      <td>0.00</td>\n",
       "      <td>0.0</td>\n",
       "      <td>NaN</td>\n",
       "      <td>0.3</td>\n",
       "      <td>5.30</td>\n",
       "      <td>Credit card</td>\n",
       "      <td>Street-hail</td>\n",
       "      <td>NaN</td>\n",
       "    </tr>\n",
       "    <tr>\n",
       "      <th>9</th>\n",
       "      <td>Creative Mobile Technologies, LLC</td>\n",
       "      <td>2015-04-01 00:47:07</td>\n",
       "      <td>2015-04-01 01:07:11</td>\n",
       "      <td>N</td>\n",
       "      <td>Standard rate</td>\n",
       "      <td>Brooklyn,Williamsburg (South Side)</td>\n",
       "      <td>Brooklyn,Bushwick North</td>\n",
       "      <td>1.0</td>\n",
       "      <td>3.50</td>\n",
       "      <td>15.0</td>\n",
       "      <td>0.5</td>\n",
       "      <td>0.5</td>\n",
       "      <td>0.00</td>\n",
       "      <td>0.0</td>\n",
       "      <td>NaN</td>\n",
       "      <td>0.3</td>\n",
       "      <td>16.30</td>\n",
       "      <td>NaN</td>\n",
       "      <td>Street-hail</td>\n",
       "      <td>NaN</td>\n",
       "    </tr>\n",
       "  </tbody>\n",
       "</table>\n",
       "</div>"
      ],
      "text/plain": [
       "                              Vendor lpep pickup datetime  \\\n",
       "0  Creative Mobile Technologies, LLC  2015-04-01 00:26:00   \n",
       "1                      VeriFone Inc.  2015-04-01 00:17:41   \n",
       "2                      VeriFone Inc.  2015-04-01 00:01:25   \n",
       "3                      VeriFone Inc.  2015-04-01 00:30:16   \n",
       "4                      VeriFone Inc.  2015-04-01 00:19:05   \n",
       "5                      VeriFone Inc.  2015-04-01 00:05:52   \n",
       "6                      VeriFone Inc.  2015-04-01 00:14:54   \n",
       "7                      VeriFone Inc.  2015-04-01 00:34:17   \n",
       "8  Creative Mobile Technologies, LLC  2015-04-01 00:38:22   \n",
       "9  Creative Mobile Technologies, LLC  2015-04-01 00:47:07   \n",
       "\n",
       "  lpep dropoff datetime store and fwd flag      Rate type  \\\n",
       "0   2015-04-01 00:27:14                  N  Standard rate   \n",
       "1   2015-04-01 00:19:45                  N  Standard rate   \n",
       "2   2015-04-01 00:11:22                  N  Standard rate   \n",
       "3   2015-04-01 00:55:27                  N  Standard rate   \n",
       "4   2015-04-01 00:39:33                  N  Standard rate   \n",
       "5   2015-04-01 00:09:42                  N  Standard rate   \n",
       "6   2015-04-01 00:44:42                  N  Standard rate   \n",
       "7   2015-04-01 00:37:14                  N  Standard rate   \n",
       "8   2015-04-01 00:40:28                  N  Standard rate   \n",
       "9   2015-04-01 01:07:11                  N  Standard rate   \n",
       "\n",
       "                             PU Location  \\\n",
       "0  Queens,Long Island City/Hunters Point   \n",
       "1   Queens,Long Island City/Queens Plaza   \n",
       "2     Brooklyn,Williamsburg (North Side)   \n",
       "3     Brooklyn,Williamsburg (North Side)   \n",
       "4             Brooklyn,East Williamsburg   \n",
       "5                       Brooklyn,Bedford   \n",
       "6                       Brooklyn,Bedford   \n",
       "7             Brooklyn,East Williamsburg   \n",
       "8                   Brooklyn,Fort Greene   \n",
       "9     Brooklyn,Williamsburg (South Side)   \n",
       "\n",
       "                             DO Location  passenger count  trip distance  \\\n",
       "0  Queens,Long Island City/Hunters Point              1.0           8.30   \n",
       "1   Queens,Long Island City/Queens Plaza              1.0           0.00   \n",
       "2                Manhattan,Alphabet City              1.0           2.41   \n",
       "3    Manhattan,Times Sq/Theatre District              1.0           6.17   \n",
       "4                 Manhattan,Clinton East              1.0           6.51   \n",
       "5            Brooklyn,Stuyvesant Heights              1.0           0.90   \n",
       "6                Brooklyn,Sheepshead Bay              1.0           7.17   \n",
       "7             Brooklyn,East Williamsburg              1.0           0.65   \n",
       "8                  Brooklyn,Clinton Hill              1.0           0.70   \n",
       "9                Brooklyn,Bushwick North              1.0           3.50   \n",
       "\n",
       "   fare amount  extra  mta tax  tip amount  tolls amount  ehail fee  \\\n",
       "0          3.0    0.5      0.5        0.00           0.0        NaN   \n",
       "1          3.5    0.5      0.5        0.00           0.0        NaN   \n",
       "2         10.0    0.5      0.5        2.26           0.0        NaN   \n",
       "3         21.5    0.5      0.5        4.56           0.0        NaN   \n",
       "4         21.0    0.5      0.5        3.00           0.0        NaN   \n",
       "5          5.0    0.5      0.5        0.00           0.0        NaN   \n",
       "6         24.5    0.5      0.5        0.00           0.0        NaN   \n",
       "7          4.5    0.5      0.5        1.16           0.0        NaN   \n",
       "8          4.0    0.5      0.5        0.00           0.0        NaN   \n",
       "9         15.0    0.5      0.5        0.00           0.0        NaN   \n",
       "\n",
       "   improvement surcharge  total amount payment type    trip type  \\\n",
       "0                    0.3          4.30         Cash  Street-hail   \n",
       "1                    0.3          4.80         Cash  Street-hail   \n",
       "2                    0.3         13.56  Credit card  Street-hail   \n",
       "3                    0.3         27.36  Credit card  Street-hail   \n",
       "4                    0.3         25.30  Credit card  Street-hail   \n",
       "5                    0.3          6.30         Cash  Street-hail   \n",
       "6                    0.3         25.80         Cash  Street-hail   \n",
       "7                    0.3          6.96  Credit card  Street-hail   \n",
       "8                    0.3          5.30  Credit card  Street-hail   \n",
       "9                    0.3         16.30          NaN  Street-hail   \n",
       "\n",
       "   congestion surcharge  \n",
       "0                   NaN  \n",
       "1                   NaN  \n",
       "2                   NaN  \n",
       "3                   NaN  \n",
       "4                   NaN  \n",
       "5                   NaN  \n",
       "6                   NaN  \n",
       "7                   NaN  \n",
       "8                   NaN  \n",
       "9                   NaN  "
      ]
     },
     "execution_count": 162,
     "metadata": {},
     "output_type": "execute_result"
    }
   ],
   "source": [
    "taxis_df.head(10)"
   ]
  },
  {
   "cell_type": "code",
   "execution_count": 98,
   "metadata": {},
   "outputs": [
    {
     "data": {
      "text/plain": [
       "(1664404, 20)"
      ]
     },
     "execution_count": 98,
     "metadata": {},
     "output_type": "execute_result"
    }
   ],
   "source": [
    "taxis_df.shape"
   ]
  },
  {
   "cell_type": "code",
   "execution_count": 6,
   "metadata": {
    "scrolled": true
   },
   "outputs": [
    {
     "name": "stdout",
     "output_type": "stream",
     "text": [
      "<class 'pandas.core.frame.DataFrame'>\n",
      "RangeIndex: 1664404 entries, 0 to 1664403\n",
      "Data columns (total 20 columns):\n",
      " #   Column                 Non-Null Count    Dtype  \n",
      "---  ------                 --------------    -----  \n",
      " 0   Vendor                 1664404 non-null  object \n",
      " 1   lpep pickup datetime   1664404 non-null  object \n",
      " 2   lpep dropoff datetime  1664404 non-null  object \n",
      " 3   store and fwd flag     1664404 non-null  object \n",
      " 4   Rate type              1664404 non-null  object \n",
      " 5   PU Location            1664404 non-null  object \n",
      " 6   DO Location            1664404 non-null  object \n",
      " 7   passenger count        1663734 non-null  float64\n",
      " 8   trip distance          1664404 non-null  float64\n",
      " 9   fare amount            1664404 non-null  float64\n",
      " 10  extra                  924722 non-null   float64\n",
      " 11  mta tax                1664404 non-null  float64\n",
      " 12  tip amount             1664404 non-null  float64\n",
      " 13  tolls amount           1664404 non-null  float64\n",
      " 14  ehail fee              0 non-null        float64\n",
      " 15  improvement surcharge  1664404 non-null  float64\n",
      " 16  total amount           1664404 non-null  float64\n",
      " 17  payment type           1597756 non-null  object \n",
      " 18  trip type              1664404 non-null  object \n",
      " 19  congestion surcharge   0 non-null        float64\n",
      "dtypes: float64(11), object(9)\n",
      "memory usage: 254.0+ MB\n"
     ]
    }
   ],
   "source": [
    "taxis_df.info()"
   ]
  },
  {
   "cell_type": "markdown",
   "metadata": {},
   "source": [
    "#### Observations:\n",
    "- Table have about 1.6 million rows with 20 columns.\n",
    "- Some columns do not have a single entry in the table, like ehail free and congestion surcharge.\n",
    "- Some columns do have null/missing values, such as passenger count, extra and payment type"
   ]
  },
  {
   "cell_type": "code",
   "execution_count": 241,
   "metadata": {},
   "outputs": [
    {
     "data": {
      "text/plain": [
       "Vendor                         2\n",
       "lpep pickup datetime     1155207\n",
       "lpep dropoff datetime    1153648\n",
       "store and fwd flag             2\n",
       "Rate type                      7\n",
       "PU Location                  243\n",
       "DO Location                  259\n",
       "passenger count               10\n",
       "trip distance               3244\n",
       "fare amount                 1248\n",
       "extra                          7\n",
       "mta tax                        4\n",
       "tip amount                  2167\n",
       "tolls amount                 201\n",
       "ehail fee                      0\n",
       "improvement surcharge          3\n",
       "total amount                5947\n",
       "payment type                   5\n",
       "trip type                      3\n",
       "congestion surcharge           0\n",
       "dtype: int64"
      ]
     },
     "execution_count": 241,
     "metadata": {},
     "output_type": "execute_result"
    }
   ],
   "source": [
    "unique_count = taxis_df.nunique()\n",
    "unique_count"
   ]
  },
  {
   "cell_type": "markdown",
   "metadata": {},
   "source": [
    "We can see that we cannot choose any of the table columns as our index, due to the fact that no column contains a number of unique values which is equal to length of the dataframe (i.e number of the records/rows)."
   ]
  },
  {
   "cell_type": "code",
   "execution_count": 247,
   "metadata": {
    "scrolled": true
   },
   "outputs": [
    {
     "data": {
      "text/html": [
       "<div>\n",
       "<style scoped>\n",
       "    .dataframe tbody tr th:only-of-type {\n",
       "        vertical-align: middle;\n",
       "    }\n",
       "\n",
       "    .dataframe tbody tr th {\n",
       "        vertical-align: top;\n",
       "    }\n",
       "\n",
       "    .dataframe thead th {\n",
       "        text-align: right;\n",
       "    }\n",
       "</style>\n",
       "<table border=\"1\" class=\"dataframe\">\n",
       "  <thead>\n",
       "    <tr style=\"text-align: right;\">\n",
       "      <th></th>\n",
       "      <th>passenger count</th>\n",
       "      <th>trip distance</th>\n",
       "      <th>fare amount</th>\n",
       "      <th>extra</th>\n",
       "      <th>mta tax</th>\n",
       "      <th>tip amount</th>\n",
       "      <th>tolls amount</th>\n",
       "      <th>ehail fee</th>\n",
       "      <th>improvement surcharge</th>\n",
       "      <th>total amount</th>\n",
       "      <th>congestion surcharge</th>\n",
       "    </tr>\n",
       "  </thead>\n",
       "  <tbody>\n",
       "    <tr>\n",
       "      <th>count</th>\n",
       "      <td>1663734.00</td>\n",
       "      <td>1664404.00</td>\n",
       "      <td>1664404.00</td>\n",
       "      <td>924722.00</td>\n",
       "      <td>1664404.00</td>\n",
       "      <td>1664404.00</td>\n",
       "      <td>1664404.00</td>\n",
       "      <td>0.00</td>\n",
       "      <td>1664404.00</td>\n",
       "      <td>1664404.00</td>\n",
       "      <td>0.00</td>\n",
       "    </tr>\n",
       "    <tr>\n",
       "      <th>mean</th>\n",
       "      <td>1.38</td>\n",
       "      <td>2.88</td>\n",
       "      <td>12.35</td>\n",
       "      <td>0.65</td>\n",
       "      <td>0.49</td>\n",
       "      <td>1.21</td>\n",
       "      <td>0.11</td>\n",
       "      <td>NaN</td>\n",
       "      <td>0.29</td>\n",
       "      <td>14.81</td>\n",
       "      <td>NaN</td>\n",
       "    </tr>\n",
       "    <tr>\n",
       "      <th>std</th>\n",
       "      <td>1.30</td>\n",
       "      <td>2.99</td>\n",
       "      <td>10.84</td>\n",
       "      <td>0.24</td>\n",
       "      <td>0.10</td>\n",
       "      <td>3.62</td>\n",
       "      <td>1.42</td>\n",
       "      <td>NaN</td>\n",
       "      <td>0.05</td>\n",
       "      <td>12.80</td>\n",
       "      <td>NaN</td>\n",
       "    </tr>\n",
       "    <tr>\n",
       "      <th>min</th>\n",
       "      <td>1.00</td>\n",
       "      <td>0.00</td>\n",
       "      <td>-499.00</td>\n",
       "      <td>-1.00</td>\n",
       "      <td>-0.50</td>\n",
       "      <td>-52.00</td>\n",
       "      <td>-9.75</td>\n",
       "      <td>NaN</td>\n",
       "      <td>-0.30</td>\n",
       "      <td>-499.00</td>\n",
       "      <td>NaN</td>\n",
       "    </tr>\n",
       "    <tr>\n",
       "      <th>25%</th>\n",
       "      <td>1.00</td>\n",
       "      <td>1.07</td>\n",
       "      <td>6.50</td>\n",
       "      <td>0.50</td>\n",
       "      <td>0.50</td>\n",
       "      <td>0.00</td>\n",
       "      <td>0.00</td>\n",
       "      <td>NaN</td>\n",
       "      <td>0.30</td>\n",
       "      <td>7.88</td>\n",
       "      <td>NaN</td>\n",
       "    </tr>\n",
       "    <tr>\n",
       "      <th>50%</th>\n",
       "      <td>1.00</td>\n",
       "      <td>1.92</td>\n",
       "      <td>9.50</td>\n",
       "      <td>0.50</td>\n",
       "      <td>0.50</td>\n",
       "      <td>0.00</td>\n",
       "      <td>0.00</td>\n",
       "      <td>NaN</td>\n",
       "      <td>0.30</td>\n",
       "      <td>11.30</td>\n",
       "      <td>NaN</td>\n",
       "    </tr>\n",
       "    <tr>\n",
       "      <th>75%</th>\n",
       "      <td>1.00</td>\n",
       "      <td>3.67</td>\n",
       "      <td>15.00</td>\n",
       "      <td>1.00</td>\n",
       "      <td>0.50</td>\n",
       "      <td>1.96</td>\n",
       "      <td>0.00</td>\n",
       "      <td>NaN</td>\n",
       "      <td>0.30</td>\n",
       "      <td>17.80</td>\n",
       "      <td>NaN</td>\n",
       "    </tr>\n",
       "    <tr>\n",
       "      <th>max</th>\n",
       "      <td>444.00</td>\n",
       "      <td>375.64</td>\n",
       "      <td>1937.50</td>\n",
       "      <td>16.00</td>\n",
       "      <td>53.54</td>\n",
       "      <td>2017.73</td>\n",
       "      <td>888.88</td>\n",
       "      <td>NaN</td>\n",
       "      <td>0.30</td>\n",
       "      <td>4035.46</td>\n",
       "      <td>NaN</td>\n",
       "    </tr>\n",
       "  </tbody>\n",
       "</table>\n",
       "</div>"
      ],
      "text/plain": [
       "       passenger count  trip distance  fare amount     extra    mta tax  \\\n",
       "count       1663734.00     1664404.00   1664404.00 924722.00 1664404.00   \n",
       "mean              1.38           2.88        12.35      0.65       0.49   \n",
       "std               1.30           2.99        10.84      0.24       0.10   \n",
       "min               1.00           0.00      -499.00     -1.00      -0.50   \n",
       "25%               1.00           1.07         6.50      0.50       0.50   \n",
       "50%               1.00           1.92         9.50      0.50       0.50   \n",
       "75%               1.00           3.67        15.00      1.00       0.50   \n",
       "max             444.00         375.64      1937.50     16.00      53.54   \n",
       "\n",
       "       tip amount  tolls amount  ehail fee  improvement surcharge  \\\n",
       "count  1664404.00    1664404.00       0.00             1664404.00   \n",
       "mean         1.21          0.11        NaN                   0.29   \n",
       "std          3.62          1.42        NaN                   0.05   \n",
       "min        -52.00         -9.75        NaN                  -0.30   \n",
       "25%          0.00          0.00        NaN                   0.30   \n",
       "50%          0.00          0.00        NaN                   0.30   \n",
       "75%          1.96          0.00        NaN                   0.30   \n",
       "max       2017.73        888.88        NaN                   0.30   \n",
       "\n",
       "       total amount  congestion surcharge  \n",
       "count    1664404.00                  0.00  \n",
       "mean          14.81                   NaN  \n",
       "std           12.80                   NaN  \n",
       "min         -499.00                   NaN  \n",
       "25%            7.88                   NaN  \n",
       "50%           11.30                   NaN  \n",
       "75%           17.80                   NaN  \n",
       "max         4035.46                   NaN  "
      ]
     },
     "execution_count": 247,
     "metadata": {},
     "output_type": "execute_result"
    }
   ],
   "source": [
    "pd.options.display.float_format = '{:.2f}'.format # show values up to 2 decimal places\n",
    "taxis_df.describe()"
   ]
  },
  {
   "cell_type": "markdown",
   "metadata": {},
   "source": [
    "#### Observations:\n",
    "- For passenger count, the min value is 1, which is expected as each ride should have at least 1 passenger. The maxmium value is 444 which seems very high and might be possibly an outlier or data entry error. The average number is 1.38, indicating that most rides have a few passengers.\n",
    "- The average trip distance is about 2.88 miles and the min is 0 miles, indicating that some trips might have been very short. The 75th percentile is 3.67 miles which indicates that most trips were somehow relatively short ones.\n",
    "- The minimum fare amount is -499.0, which is not realistic and might have been an error when entering the data. Similarly, the min for tip amount, tolls amount, extra, mta tax as improvement surcharge are also negative.\n",
    "- The average toll amount is 0.11 with a maxmium toll of 888.88, which might seem like an outlier."
   ]
  },
  {
   "cell_type": "markdown",
   "metadata": {},
   "source": [
    "## Helper Plotting "
   ]
  },
  {
   "cell_type": "code",
   "execution_count": 238,
   "metadata": {},
   "outputs": [],
   "source": [
    "def create_bar_plot(series, title, x_label, y_label, figsize=(10,6), palette='Set1', orientation='vertical', color='skyblue'):\n",
    "    plt.figure(figsize=figsize)\n",
    "    if orientation == 'vertical':\n",
    "        plt.bar(series.index, series, color=color)\n",
    "    else:\n",
    "        plt.barh(series.index, series, color=color)\n",
    "    plt.title(title)\n",
    "    plt.xlabel(x_label)\n",
    "    plt.ylabel(y_label)\n",
    "    plt.show()\n",
    "\n",
    "def create_scatter_plot(df, x_col, y_col, title, x_label, y_label, color='skyblue', alpha=0.7):\n",
    "    plt.scatter(df[x_col], df[y_col], color=color, alpha=alpha)\n",
    "    plt.title(title)\n",
    "    plt.xlabel(x_label)\n",
    "    plt.ylabel(y_label)\n",
    "    plt.show()\n",
    "\n",
    "def create_line_plot(x_col, y_col, title, x_label, y_label, x_ticks=None, marker='o', color='skyblue', figsize=(10,6)):\n",
    "    plt.figure(figsize=figsize)\n",
    "    plt.plot(x_col, y_col, marker=marker, color=color)\n",
    "    plt.title(title)\n",
    "    plt.xlabel(x_label)\n",
    "    plt.ylabel(y_label)   \n",
    "    if x_ticks is not None:\n",
    "        plt.xticks(x_ticks)    \n",
    "    plt.show()\n",
    "\n",
    "def create_count_plot(df, x_col, hue_col, title, x_label, y_label, legend_title, palette='Set2', figsize=(10,6)):\n",
    "    plt.figure(figsize=figsize)\n",
    "    sns.countplot(x=x_col, hue=hue_col, data=df, palette=palette)\n",
    "    plt.title(title)\n",
    "    plt.xlabel(x_label)\n",
    "    plt.ylabel(y_label)\n",
    "    plt.legend(title=legend_title)\n",
    "    plt.show()\n",
    "    \n",
    "def create_box_plot(df, x_col, title, x_label, color='skyblue', figsize=(10,6)):\n",
    "    plt.figure(figsize=figsize)\n",
    "    sns.boxplot(x=x_col, data=df, color=color)\n",
    "    plt.title(title)\n",
    "    plt.xlabel(x_label)\n",
    "    plt.show()\n",
    "\n",
    "def create_density_plot(data, x_col, title, x_label, figsize=(10, 6)):\n",
    "    plt.figure(figsize=figsize)\n",
    "    sns.kdeplot(data[x_col],color='skyblue')\n",
    "    plt.title(title)\n",
    "    plt.xlabel(x_label)\n",
    "    plt.ylabel('Density')\n",
    "    plt.show()\n",
    "\n"
   ]
  },
  {
   "cell_type": "markdown",
   "metadata": {},
   "source": [
    "### What rate types are available and how many trips were completed with each rate type?"
   ]
  },
  {
   "cell_type": "code",
   "execution_count": 15,
   "metadata": {},
   "outputs": [
    {
     "data": {
      "text/plain": [
       "Rate type\n",
       "Standard rate            1616351\n",
       "Negotiated fare            41159\n",
       "JFK                         4777\n",
       "Newark                      1323\n",
       "Nassau or Westchester        736\n",
       "Group ride                    56\n",
       "Unknown                        2\n",
       "Name: count, dtype: int64"
      ]
     },
     "execution_count": 15,
     "metadata": {},
     "output_type": "execute_result"
    }
   ],
   "source": [
    "rate_counts = taxis_df['Rate type'].value_counts()\n",
    "rate_counts"
   ]
  },
  {
   "cell_type": "code",
   "execution_count": 226,
   "metadata": {},
   "outputs": [
    {
     "data": {
      "image/png": "[encoded data removed]",
      "text/plain": [
       "<Figure size 1000x600 with 1 Axes>"
      ]
     },
     "metadata": {},
     "output_type": "display_data"
    }
   ],
   "source": [
    "create_bar_plot(rate_counts,'Total Rides per Rate Type', 'Vendors', 'Total Rides', orientation=\"horizontal\")"
   ]
  },
  {
   "cell_type": "markdown",
   "metadata": {},
   "source": [
    "We can see from this graph that the \"Standard Rate\" is the most dominant rate type, covering almost all 1.6 million records in our table."
   ]
  },
  {
   "cell_type": "markdown",
   "metadata": {},
   "source": [
    "### How many vendors exist and how many trips are done per vendor?"
   ]
  },
  {
   "cell_type": "code",
   "execution_count": 27,
   "metadata": {},
   "outputs": [
    {
     "data": {
      "text/plain": [
       "Vendor\n",
       "VeriFone Inc.                        1294027\n",
       "Creative Mobile Technologies, LLC     370377\n",
       "Name: count, dtype: int64"
      ]
     },
     "execution_count": 27,
     "metadata": {},
     "output_type": "execute_result"
    }
   ],
   "source": [
    "vendor_counts = taxis_df['Vendor'].value_counts()\n",
    "vendor_counts"
   ]
  },
  {
   "cell_type": "code",
   "execution_count": 228,
   "metadata": {},
   "outputs": [
    {
     "data": {
      "image/png": "[encoded data removed]",
      "text/plain": [
       "<Figure size 1000x600 with 1 Axes>"
      ]
     },
     "metadata": {},
     "output_type": "display_data"
    }
   ],
   "source": [
    "create_bar_plot(vendor_counts,'Total Rides per Vendor', 'Vendors', 'Total Rides', color=\"coral\")"
   ]
  },
  {
   "cell_type": "markdown",
   "metadata": {},
   "source": [
    "Only 2 vendors exist, with VeriFone doing the most number of trips."
   ]
  },
  {
   "cell_type": "markdown",
   "metadata": {},
   "source": [
    "### What is the relationship between the tip amount and the fare amount? Do higher fares mean higher tip amounts?"
   ]
  },
  {
   "cell_type": "code",
   "execution_count": 116,
   "metadata": {},
   "outputs": [
    {
     "data": {
      "image/png": "[encoded data removed]",
      "text/plain": [
       "<Figure size 640x480 with 1 Axes>"
      ]
     },
     "metadata": {},
     "output_type": "display_data"
    }
   ],
   "source": [
    "credit_card_payments = taxis_df[taxis_df['payment type'] == 'Credit card']\n",
    "create_scatter_plot(credit_card_payments, 'fare amount', 'tip amount', 'Relationship between Fare Amount and Tip Amount for Credit Card Payments', 'Fare Amount', 'Tip Amount')"
   ]
  },
  {
   "cell_type": "markdown",
   "metadata": {},
   "source": [
    "We can see from the above graph that increasing the fare amount impacts the tip amount, where higher fare amounts cause a decrease in the tip amount given. High fare amounts greater than 500 do not provide a tip at all."
   ]
  },
  {
   "cell_type": "markdown",
   "metadata": {},
   "source": [
    "### Which pick up hour of the day has the greatest fare amount?"
   ]
  },
  {
   "cell_type": "code",
   "execution_count": 114,
   "metadata": {},
   "outputs": [
    {
     "data": {
      "image/png": "[encoded data removed]",
      "text/plain": [
       "<Figure size 1000x600 with 1 Axes>"
      ]
     },
     "metadata": {},
     "output_type": "display_data"
    }
   ],
   "source": [
    "taxis_df_with_pickup_hour = taxis_df.copy()\n",
    "taxis_df_with_pickup_hour ['lpep pickup datetime'] = pd.to_datetime(taxis_df['lpep pickup datetime']).dt.hour\n",
    "hourly_fare_avg = taxis_df_with_pickup_hour.groupby('lpep pickup datetime')['fare amount'].mean()\n",
    "\n",
    "create_line_plot(hourly_fare_avg.index, hourly_fare_avg,'Average Fare Amount by Pickup Hour', 'Hour of the Day', 'Average Fare Amount', x_ticks=range(24))\n"
   ]
  },
  {
   "cell_type": "markdown",
   "metadata": {},
   "source": [
    "From the graph, we can see that at 6 o'clock is the peak of the average fare amount throught the 24 hours."
   ]
  },
  {
   "cell_type": "markdown",
   "metadata": {},
   "source": [
    "### How is the trip distance distributed across the table?"
   ]
  },
  {
   "cell_type": "code",
   "execution_count": 214,
   "metadata": {},
   "outputs": [
    {
     "name": "stderr",
     "output_type": "stream",
     "text": [
      "C:\\Users\\ahmed\\AppData\\Roaming\\Python\\Python311\\site-packages\\seaborn\\_oldcore.py:1498: FutureWarning: is_categorical_dtype is deprecated and will be removed in a future version. Use isinstance(dtype, CategoricalDtype) instead\n",
      "  if pd.api.types.is_categorical_dtype(vector):\n"
     ]
    },
    {
     "data": {
      "image/png": "[encoded data removed]",
      "text/plain": [
       "<Figure size 1000x600 with 1 Axes>"
      ]
     },
     "metadata": {},
     "output_type": "display_data"
    }
   ],
   "source": [
    "create_box_plot(taxis_df, 'trip distance', 'Box Plot of Trip Distance', 'Trip Distance')"
   ]
  },
  {
   "cell_type": "code",
   "execution_count": 239,
   "metadata": {},
   "outputs": [
    {
     "name": "stderr",
     "output_type": "stream",
     "text": [
      "C:\\Users\\ahmed\\AppData\\Roaming\\Python\\Python311\\site-packages\\seaborn\\_oldcore.py:1498: FutureWarning: is_categorical_dtype is deprecated and will be removed in a future version. Use isinstance(dtype, CategoricalDtype) instead\n",
      "  if pd.api.types.is_categorical_dtype(vector):\n",
      "C:\\Users\\ahmed\\AppData\\Roaming\\Python\\Python311\\site-packages\\seaborn\\_oldcore.py:1119: FutureWarning: use_inf_as_na option is deprecated and will be removed in a future version. Convert inf values to NaN before operating instead.\n",
      "  with pd.option_context('mode.use_inf_as_na', True):\n"
     ]
    },
    {
     "data": {
      "image/png": "[encoded data removed]",
      "text/plain": [
       "<Figure size 1000x600 with 1 Axes>"
      ]
     },
     "metadata": {},
     "output_type": "display_data"
    }
   ],
   "source": [
    "create_density_plot(taxis_df, 'trip distance', 'Density Plot of Trip Distance', 'Trip Distance (miles)')"
   ]
  },
  {
   "cell_type": "markdown",
   "metadata": {},
   "source": [
    "From both graphs, we can see that the trip is skewed to the right and most values lie between 0-30 miles."
   ]
  },
  {
   "cell_type": "markdown",
   "metadata": {},
   "source": [
    "### Do street hails type of rides pay with cash more than credit card?"
   ]
  },
  {
   "cell_type": "code",
   "execution_count": 123,
   "metadata": {},
   "outputs": [
    {
     "name": "stderr",
     "output_type": "stream",
     "text": [
      "C:\\Users\\ahmed\\AppData\\Roaming\\Python\\Python311\\site-packages\\seaborn\\_oldcore.py:1498: FutureWarning: is_categorical_dtype is deprecated and will be removed in a future version. Use isinstance(dtype, CategoricalDtype) instead\n",
      "  if pd.api.types.is_categorical_dtype(vector):\n",
      "C:\\Users\\ahmed\\AppData\\Roaming\\Python\\Python311\\site-packages\\seaborn\\_oldcore.py:1498: FutureWarning: is_categorical_dtype is deprecated and will be removed in a future version. Use isinstance(dtype, CategoricalDtype) instead\n",
      "  if pd.api.types.is_categorical_dtype(vector):\n",
      "C:\\Users\\ahmed\\AppData\\Roaming\\Python\\Python311\\site-packages\\seaborn\\_oldcore.py:1498: FutureWarning: is_categorical_dtype is deprecated and will be removed in a future version. Use isinstance(dtype, CategoricalDtype) instead\n",
      "  if pd.api.types.is_categorical_dtype(vector):\n",
      "C:\\Users\\ahmed\\AppData\\Roaming\\Python\\Python311\\site-packages\\seaborn\\_oldcore.py:1498: FutureWarning: is_categorical_dtype is deprecated and will be removed in a future version. Use isinstance(dtype, CategoricalDtype) instead\n",
      "  if pd.api.types.is_categorical_dtype(vector):\n"
     ]
    },
    {
     "data": {
      "image/png": "[encoded data removed]",
      "text/plain": [
       "<Figure size 1000x600 with 1 Axes>"
      ]
     },
     "metadata": {},
     "output_type": "display_data"
    }
   ],
   "source": [
    "create_count_plot(taxis_df, 'trip type', 'payment type', 'Relationship between Trip Type and Payment Type', 'Trip Type', 'Count', 'Payment Type')"
   ]
  },
  {
   "cell_type": "markdown",
   "metadata": {},
   "source": [
    "From the graph, we get to know also that there exists only 3 trip types. We can also see that Street-hail types of rides are the most popular type of ride, with cash being used more slightly than credit card. "
   ]
  },
  {
   "cell_type": "markdown",
   "metadata": {},
   "source": [
    "### What are the top 5 drop-off locations with the highest average toll amounts?"
   ]
  },
  {
   "cell_type": "code",
   "execution_count": 233,
   "metadata": {},
   "outputs": [
    {
     "data": {
      "image/png": "[encoded data removed]",
      "text/plain": [
       "<Figure size 1000x600 with 1 Axes>"
      ]
     },
     "metadata": {},
     "output_type": "display_data"
    }
   ],
   "source": [
    "avg_toll_by_location = taxis_df.groupby('DO Location')['tolls amount'].mean()\n",
    "avg_toll_by_location = avg_toll_by_location.sort_values(ascending=False)\n",
    "top_5_locations = avg_toll_by_location.head(5)\n",
    "\n",
    "create_bar_plot(top_5_locations, 'Top 5 Drop-off Locations with Highest Average Toll Amounts', 'Drop-off Location', 'Average Toll Amount', orientation='horizontal', color=\"brown\")\n"
   ]
  },
  {
   "cell_type": "markdown",
   "metadata": {},
   "source": [
    "# Cleaning Data"
   ]
  },
  {
   "cell_type": "markdown",
   "metadata": {},
   "source": [
    "## Tidying up column names"
   ]
  },
  {
   "cell_type": "code",
   "execution_count": 252,
   "metadata": {},
   "outputs": [],
   "source": [
    "def rename_columns(df):\n",
    "    df.columns = df.columns.str.lower()\n",
    "    df.columns = [col.replace(' ', '_') for col in df.columns]"
   ]
  },
  {
   "cell_type": "code",
   "execution_count": 323,
   "metadata": {},
   "outputs": [
    {
     "data": {
      "text/plain": [
       "Index(['vendor', 'lpep_pickup_datetime', 'lpep_dropoff_datetime',\n",
       "       'store_and_fwd_flag', 'rate_type', 'pu_location', 'do_location',\n",
       "       'passenger_count', 'trip_distance', 'fare_amount', 'extra', 'mta_tax',\n",
       "       'tip_amount', 'tolls_amount', 'ehail_fee', 'improvement_surcharge',\n",
       "       'total_amount', 'payment_type', 'trip_type', 'congestion_surcharge'],\n",
       "      dtype='object')"
      ]
     },
     "execution_count": 323,
     "metadata": {},
     "output_type": "execute_result"
    }
   ],
   "source": [
    "rename_columns(taxis_df)\n",
    "taxis_df.columns"
   ]
  },
  {
   "cell_type": "code",
   "execution_count": 256,
   "metadata": {},
   "outputs": [
    {
     "data": {
      "text/plain": [
       "5"
      ]
     },
     "execution_count": 256,
     "metadata": {},
     "output_type": "execute_result"
    }
   ],
   "source": [
    "taxis_df.duplicated().sum()"
   ]
  },
  {
   "cell_type": "markdown",
   "metadata": {},
   "source": [
    "## Observe inconsistent data"
   ]
  },
  {
   "cell_type": "code",
   "execution_count": 324,
   "metadata": {},
   "outputs": [
    {
     "name": "stdout",
     "output_type": "stream",
     "text": [
      "<class 'pandas.core.frame.DataFrame'>\n",
      "RangeIndex: 1664404 entries, 0 to 1664403\n",
      "Data columns (total 20 columns):\n",
      " #   Column                 Non-Null Count    Dtype  \n",
      "---  ------                 --------------    -----  \n",
      " 0   vendor                 1664404 non-null  object \n",
      " 1   lpep_pickup_datetime   1664404 non-null  object \n",
      " 2   lpep_dropoff_datetime  1664404 non-null  object \n",
      " 3   store_and_fwd_flag     1664404 non-null  object \n",
      " 4   rate_type              1664404 non-null  object \n",
      " 5   pu_location            1664404 non-null  object \n",
      " 6   do_location            1664404 non-null  object \n",
      " 7   passenger_count        1663734 non-null  float64\n",
      " 8   trip_distance          1664404 non-null  float64\n",
      " 9   fare_amount            1664404 non-null  float64\n",
      " 10  extra                  924722 non-null   float64\n",
      " 11  mta_tax                1664404 non-null  float64\n",
      " 12  tip_amount             1664404 non-null  float64\n",
      " 13  tolls_amount           1664404 non-null  float64\n",
      " 14  ehail_fee              0 non-null        float64\n",
      " 15  improvement_surcharge  1664404 non-null  float64\n",
      " 16  total_amount           1664404 non-null  float64\n",
      " 17  payment_type           1597756 non-null  object \n",
      " 18  trip_type              1664404 non-null  object \n",
      " 19  congestion_surcharge   0 non-null        float64\n",
      "dtypes: float64(11), object(9)\n",
      "memory usage: 254.0+ MB\n"
     ]
    }
   ],
   "source": [
    "taxis_df.info()"
   ]
  },
  {
   "cell_type": "markdown",
   "metadata": {},
   "source": [
    "We can see the following inconsistencies right away:\n",
    "- Passenger count is of type float, when it should be integer as it should be represented as whole numbers\n",
    "- Pickup and dropoff datetimes features are represented as an object, where they could be better represented as datetime. This ensures the values in the column adhere to a consistent date and time format. Also, this allows to perform existing datetime operations easily on those columns and be able to filter them much easier."
   ]
  },
  {
   "cell_type": "markdown",
   "metadata": {},
   "source": [
    "### Converting Pick up and Drop off data type to datetime"
   ]
  },
  {
   "cell_type": "code",
   "execution_count": 274,
   "metadata": {},
   "outputs": [],
   "source": [
    "def change_column_to_datetime(dataframe, column_name):\n",
    "    try:\n",
    "        dataframe[column_name] = pd.to_datetime(dataframe[column_name])\n",
    "    except Exception as e:\n",
    "                print(f\"Error: Could not convert column '{column_name}' to datetime due to {e}.\")"
   ]
  },
  {
   "cell_type": "code",
   "execution_count": null,
   "metadata": {},
   "outputs": [],
   "source": [
    "change_column_to_datetime(taxis_df, 'lpep_pickup_datetime')\n",
    "change_column_to_datetime(taxis_df, 'lpep_dropoff_datetime')"
   ]
  },
  {
   "cell_type": "code",
   "execution_count": 276,
   "metadata": {},
   "outputs": [
    {
     "name": "stdout",
     "output_type": "stream",
     "text": [
      "<class 'pandas.core.frame.DataFrame'>\n",
      "RangeIndex: 1664404 entries, 0 to 1664403\n",
      "Data columns (total 20 columns):\n",
      " #   Column                 Non-Null Count    Dtype         \n",
      "---  ------                 --------------    -----         \n",
      " 0   vendor                 1664404 non-null  object        \n",
      " 1   lpep_pickup_datetime   1664404 non-null  datetime64[ns]\n",
      " 2   lpep_dropoff_datetime  1664404 non-null  datetime64[ns]\n",
      " 3   store_and_fwd_flag     1664404 non-null  object        \n",
      " 4   rate_type              1664404 non-null  object        \n",
      " 5   pu_location            1664404 non-null  object        \n",
      " 6   do_location            1664404 non-null  object        \n",
      " 7   passenger_count        1663734 non-null  float64       \n",
      " 8   trip_distance          1664404 non-null  float64       \n",
      " 9   fare_amount            1664404 non-null  float64       \n",
      " 10  extra                  924722 non-null   float64       \n",
      " 11  mta_tax                1664404 non-null  float64       \n",
      " 12  tip_amount             1664404 non-null  float64       \n",
      " 13  tolls_amount           1664404 non-null  float64       \n",
      " 14  ehail_fee              0 non-null        float64       \n",
      " 15  improvement_surcharge  1664404 non-null  float64       \n",
      " 16  total_amount           1664404 non-null  float64       \n",
      " 17  payment_type           1597756 non-null  object        \n",
      " 18  trip_type              1664404 non-null  object        \n",
      " 19  congestion_surcharge   0 non-null        float64       \n",
      "dtypes: datetime64[ns](2), float64(11), object(7)\n",
      "memory usage: 254.0+ MB\n"
     ]
    }
   ],
   "source": [
    "taxis_df.info()"
   ]
  },
  {
   "cell_type": "markdown",
   "metadata": {},
   "source": [
    "Both columns data type can now be seen as 'datetime' instead of 'object'"
   ]
  },
  {
   "cell_type": "markdown",
   "metadata": {},
   "source": [
    "#### Attempt to change Passenger Count column to integer"
   ]
  },
  {
   "cell_type": "code",
   "execution_count": 266,
   "metadata": {},
   "outputs": [
    {
     "data": {
      "text/plain": [
       "array([  1.,   2.,   5.,   3.,   4.,   6.,   8.,  nan, 444.,   7.,   9.])"
      ]
     },
     "execution_count": 266,
     "metadata": {},
     "output_type": "execute_result"
    }
   ],
   "source": [
    "taxis_df.passenger_count.unique()"
   ]
  },
  {
   "cell_type": "markdown",
   "metadata": {},
   "source": [
    "Typecasting the values from float to integer will fail at this point because there are some missing values in the column. We will typecast it as soon as the missing values are handled in this column below."
   ]
  },
  {
   "cell_type": "markdown",
   "metadata": {},
   "source": [
    "### Duplicates"
   ]
  },
  {
   "cell_type": "code",
   "execution_count": 374,
   "metadata": {},
   "outputs": [],
   "source": [
    "def copy_dataframe(dataframe):\n",
    "    return dataframe.copy()\n",
    "    \n",
    "def find_duplicates(dataframe):\n",
    "    return dataframe[dataframe.duplicated()]\n"
   ]
  },
  {
   "cell_type": "code",
   "execution_count": 375,
   "metadata": {},
   "outputs": [
    {
     "data": {
      "text/html": [
       "<div>\n",
       "<style scoped>\n",
       "    .dataframe tbody tr th:only-of-type {\n",
       "        vertical-align: middle;\n",
       "    }\n",
       "\n",
       "    .dataframe tbody tr th {\n",
       "        vertical-align: top;\n",
       "    }\n",
       "\n",
       "    .dataframe thead th {\n",
       "        text-align: right;\n",
       "    }\n",
       "</style>\n",
       "<table border=\"1\" class=\"dataframe\">\n",
       "  <thead>\n",
       "    <tr style=\"text-align: right;\">\n",
       "      <th></th>\n",
       "      <th>vendor</th>\n",
       "      <th>lpep_pickup_datetime</th>\n",
       "      <th>lpep_dropoff_datetime</th>\n",
       "      <th>store_and_fwd_flag</th>\n",
       "      <th>rate_type</th>\n",
       "      <th>pu_location</th>\n",
       "      <th>do_location</th>\n",
       "      <th>passenger_count</th>\n",
       "      <th>trip_distance</th>\n",
       "      <th>fare_amount</th>\n",
       "      <th>extra</th>\n",
       "      <th>mta_tax</th>\n",
       "      <th>tip_amount</th>\n",
       "      <th>tolls_amount</th>\n",
       "      <th>ehail_fee</th>\n",
       "      <th>improvement_surcharge</th>\n",
       "      <th>total_amount</th>\n",
       "      <th>payment_type</th>\n",
       "      <th>trip_type</th>\n",
       "      <th>congestion_surcharge</th>\n",
       "    </tr>\n",
       "  </thead>\n",
       "  <tbody>\n",
       "    <tr>\n",
       "      <th>1664399</th>\n",
       "      <td>Creative Mobile Technologies, LLC</td>\n",
       "      <td>2015-04-14 13:52:49</td>\n",
       "      <td>2015-04-14 14:02:39</td>\n",
       "      <td>N</td>\n",
       "      <td>Standard rate</td>\n",
       "      <td>Manhattan,Central Harlem North</td>\n",
       "      <td>Manhattan,East Harlem North</td>\n",
       "      <td>1.00</td>\n",
       "      <td>1.20</td>\n",
       "      <td>8.00</td>\n",
       "      <td>NaN</td>\n",
       "      <td>0.50</td>\n",
       "      <td>0.00</td>\n",
       "      <td>0.00</td>\n",
       "      <td>NaN</td>\n",
       "      <td>0.30</td>\n",
       "      <td>8.80</td>\n",
       "      <td>NaN</td>\n",
       "      <td>Street-hail</td>\n",
       "      <td>NaN</td>\n",
       "    </tr>\n",
       "    <tr>\n",
       "      <th>1664400</th>\n",
       "      <td>Creative Mobile Technologies, LLC</td>\n",
       "      <td>2015-04-19 03:11:34</td>\n",
       "      <td>2015-04-19 03:22:46</td>\n",
       "      <td>Y</td>\n",
       "      <td>Standard rate</td>\n",
       "      <td>Brooklyn,Boerum Hill</td>\n",
       "      <td>Brooklyn,Sunset Park East</td>\n",
       "      <td>3.00</td>\n",
       "      <td>3.40</td>\n",
       "      <td>12.00</td>\n",
       "      <td>0.50</td>\n",
       "      <td>0.50</td>\n",
       "      <td>2.65</td>\n",
       "      <td>0.00</td>\n",
       "      <td>NaN</td>\n",
       "      <td>0.30</td>\n",
       "      <td>15.95</td>\n",
       "      <td>NaN</td>\n",
       "      <td>Street-hail</td>\n",
       "      <td>NaN</td>\n",
       "    </tr>\n",
       "    <tr>\n",
       "      <th>1664401</th>\n",
       "      <td>VeriFone Inc.</td>\n",
       "      <td>2015-04-29 22:36:01</td>\n",
       "      <td>2015-04-29 22:41:24</td>\n",
       "      <td>N</td>\n",
       "      <td>Standard rate</td>\n",
       "      <td>Manhattan,East Harlem South</td>\n",
       "      <td>Manhattan,Yorkville West</td>\n",
       "      <td>1.00</td>\n",
       "      <td>0.78</td>\n",
       "      <td>5.50</td>\n",
       "      <td>0.50</td>\n",
       "      <td>0.50</td>\n",
       "      <td>0.00</td>\n",
       "      <td>0.00</td>\n",
       "      <td>NaN</td>\n",
       "      <td>0.30</td>\n",
       "      <td>6.80</td>\n",
       "      <td>Cash</td>\n",
       "      <td>Street-hail</td>\n",
       "      <td>NaN</td>\n",
       "    </tr>\n",
       "    <tr>\n",
       "      <th>1664402</th>\n",
       "      <td>Creative Mobile Technologies, LLC</td>\n",
       "      <td>2015-04-17 13:00:16</td>\n",
       "      <td>2015-04-17 13:19:15</td>\n",
       "      <td>N</td>\n",
       "      <td>Standard rate</td>\n",
       "      <td>Manhattan,Central Harlem</td>\n",
       "      <td>Manhattan,Yorkville East</td>\n",
       "      <td>1.00</td>\n",
       "      <td>2.60</td>\n",
       "      <td>13.50</td>\n",
       "      <td>NaN</td>\n",
       "      <td>0.50</td>\n",
       "      <td>3.00</td>\n",
       "      <td>0.00</td>\n",
       "      <td>NaN</td>\n",
       "      <td>0.30</td>\n",
       "      <td>17.30</td>\n",
       "      <td>Credit card</td>\n",
       "      <td>Street-hail</td>\n",
       "      <td>NaN</td>\n",
       "    </tr>\n",
       "    <tr>\n",
       "      <th>1664403</th>\n",
       "      <td>VeriFone Inc.</td>\n",
       "      <td>2015-04-09 01:38:38</td>\n",
       "      <td>2015-04-09 01:43:35</td>\n",
       "      <td>N</td>\n",
       "      <td>Standard rate</td>\n",
       "      <td>Bronx,Fordham South</td>\n",
       "      <td>Bronx,Claremont/Bathgate</td>\n",
       "      <td>1.00</td>\n",
       "      <td>1.23</td>\n",
       "      <td>6.00</td>\n",
       "      <td>0.50</td>\n",
       "      <td>0.50</td>\n",
       "      <td>0.00</td>\n",
       "      <td>0.00</td>\n",
       "      <td>NaN</td>\n",
       "      <td>0.30</td>\n",
       "      <td>7.30</td>\n",
       "      <td>Credit card</td>\n",
       "      <td>Street-hail</td>\n",
       "      <td>NaN</td>\n",
       "    </tr>\n",
       "  </tbody>\n",
       "</table>\n",
       "</div>"
      ],
      "text/plain": [
       "                                    vendor lpep_pickup_datetime  \\\n",
       "1664399  Creative Mobile Technologies, LLC  2015-04-14 13:52:49   \n",
       "1664400  Creative Mobile Technologies, LLC  2015-04-19 03:11:34   \n",
       "1664401                      VeriFone Inc.  2015-04-29 22:36:01   \n",
       "1664402  Creative Mobile Technologies, LLC  2015-04-17 13:00:16   \n",
       "1664403                      VeriFone Inc.  2015-04-09 01:38:38   \n",
       "\n",
       "        lpep_dropoff_datetime store_and_fwd_flag      rate_type  \\\n",
       "1664399   2015-04-14 14:02:39                  N  Standard rate   \n",
       "1664400   2015-04-19 03:22:46                  Y  Standard rate   \n",
       "1664401   2015-04-29 22:41:24                  N  Standard rate   \n",
       "1664402   2015-04-17 13:19:15                  N  Standard rate   \n",
       "1664403   2015-04-09 01:43:35                  N  Standard rate   \n",
       "\n",
       "                            pu_location                  do_location  \\\n",
       "1664399  Manhattan,Central Harlem North  Manhattan,East Harlem North   \n",
       "1664400            Brooklyn,Boerum Hill    Brooklyn,Sunset Park East   \n",
       "1664401     Manhattan,East Harlem South     Manhattan,Yorkville West   \n",
       "1664402        Manhattan,Central Harlem     Manhattan,Yorkville East   \n",
       "1664403             Bronx,Fordham South     Bronx,Claremont/Bathgate   \n",
       "\n",
       "         passenger_count  trip_distance  fare_amount  extra  mta_tax  \\\n",
       "1664399             1.00           1.20         8.00    NaN     0.50   \n",
       "1664400             3.00           3.40        12.00   0.50     0.50   \n",
       "1664401             1.00           0.78         5.50   0.50     0.50   \n",
       "1664402             1.00           2.60        13.50    NaN     0.50   \n",
       "1664403             1.00           1.23         6.00   0.50     0.50   \n",
       "\n",
       "         tip_amount  tolls_amount  ehail_fee  improvement_surcharge  \\\n",
       "1664399        0.00          0.00        NaN                   0.30   \n",
       "1664400        2.65          0.00        NaN                   0.30   \n",
       "1664401        0.00          0.00        NaN                   0.30   \n",
       "1664402        3.00          0.00        NaN                   0.30   \n",
       "1664403        0.00          0.00        NaN                   0.30   \n",
       "\n",
       "         total_amount payment_type    trip_type  congestion_surcharge  \n",
       "1664399          8.80          NaN  Street-hail                   NaN  \n",
       "1664400         15.95          NaN  Street-hail                   NaN  \n",
       "1664401          6.80         Cash  Street-hail                   NaN  \n",
       "1664402         17.30  Credit card  Street-hail                   NaN  \n",
       "1664403          7.30  Credit card  Street-hail                   NaN  "
      ]
     },
     "execution_count": 375,
     "metadata": {},
     "output_type": "execute_result"
    }
   ],
   "source": [
    "duplicates = find_duplicates(taxis_df)\n",
    "duplicates"
   ]
  },
  {
   "cell_type": "code",
   "execution_count": 361,
   "metadata": {},
   "outputs": [
    {
     "data": {
      "text/plain": [
       "(5, 20)"
      ]
     },
     "execution_count": 361,
     "metadata": {},
     "output_type": "execute_result"
    }
   ],
   "source": [
    "duplicates.shape"
   ]
  },
  {
   "cell_type": "markdown",
   "metadata": {},
   "source": [
    "We can see that we have 5 duplicates in our dataset. It's very hard to have 2 identical rows exactly in our dataset, as this implies that there exists 2 rides with the same exact vendor, pickup time and location as well as dropoff location along with passenger count and tip amount. It is very highly unlikely that those 2 rides happened concurrently at the same time and under the same exact conditions. Hence, those rows are marked as duplicates and should be removed."
   ]
  },
  {
   "cell_type": "markdown",
   "metadata": {},
   "source": [
    "A copy of the dataframe is first created to be used for performing our cleaning operations on."
   ]
  },
  {
   "cell_type": "code",
   "execution_count": 369,
   "metadata": {},
   "outputs": [
    {
     "data": {
      "text/html": [
       "<div>\n",
       "<style scoped>\n",
       "    .dataframe tbody tr th:only-of-type {\n",
       "        vertical-align: middle;\n",
       "    }\n",
       "\n",
       "    .dataframe tbody tr th {\n",
       "        vertical-align: top;\n",
       "    }\n",
       "\n",
       "    .dataframe thead th {\n",
       "        text-align: right;\n",
       "    }\n",
       "</style>\n",
       "<table border=\"1\" class=\"dataframe\">\n",
       "  <thead>\n",
       "    <tr style=\"text-align: right;\">\n",
       "      <th></th>\n",
       "      <th>vendor</th>\n",
       "      <th>lpep_pickup_datetime</th>\n",
       "      <th>lpep_dropoff_datetime</th>\n",
       "      <th>store_and_fwd_flag</th>\n",
       "      <th>rate_type</th>\n",
       "      <th>pu_location</th>\n",
       "      <th>do_location</th>\n",
       "      <th>passenger_count</th>\n",
       "      <th>trip_distance</th>\n",
       "      <th>fare_amount</th>\n",
       "      <th>extra</th>\n",
       "      <th>mta_tax</th>\n",
       "      <th>tip_amount</th>\n",
       "      <th>tolls_amount</th>\n",
       "      <th>ehail_fee</th>\n",
       "      <th>improvement_surcharge</th>\n",
       "      <th>total_amount</th>\n",
       "      <th>payment_type</th>\n",
       "      <th>trip_type</th>\n",
       "      <th>congestion_surcharge</th>\n",
       "    </tr>\n",
       "  </thead>\n",
       "  <tbody>\n",
       "    <tr>\n",
       "      <th>0</th>\n",
       "      <td>Creative Mobile Technologies, LLC</td>\n",
       "      <td>2015-04-01 00:26:00</td>\n",
       "      <td>2015-04-01 00:27:14</td>\n",
       "      <td>N</td>\n",
       "      <td>Standard rate</td>\n",
       "      <td>Queens,Long Island City/Hunters Point</td>\n",
       "      <td>Queens,Long Island City/Hunters Point</td>\n",
       "      <td>1.00</td>\n",
       "      <td>8.30</td>\n",
       "      <td>3.00</td>\n",
       "      <td>0.50</td>\n",
       "      <td>0.50</td>\n",
       "      <td>0.00</td>\n",
       "      <td>0.00</td>\n",
       "      <td>NaN</td>\n",
       "      <td>0.30</td>\n",
       "      <td>4.30</td>\n",
       "      <td>Cash</td>\n",
       "      <td>Street-hail</td>\n",
       "      <td>NaN</td>\n",
       "    </tr>\n",
       "    <tr>\n",
       "      <th>1</th>\n",
       "      <td>VeriFone Inc.</td>\n",
       "      <td>2015-04-01 00:17:41</td>\n",
       "      <td>2015-04-01 00:19:45</td>\n",
       "      <td>N</td>\n",
       "      <td>Standard rate</td>\n",
       "      <td>Queens,Long Island City/Queens Plaza</td>\n",
       "      <td>Queens,Long Island City/Queens Plaza</td>\n",
       "      <td>1.00</td>\n",
       "      <td>0.00</td>\n",
       "      <td>3.50</td>\n",
       "      <td>0.50</td>\n",
       "      <td>0.50</td>\n",
       "      <td>0.00</td>\n",
       "      <td>0.00</td>\n",
       "      <td>NaN</td>\n",
       "      <td>0.30</td>\n",
       "      <td>4.80</td>\n",
       "      <td>Cash</td>\n",
       "      <td>Street-hail</td>\n",
       "      <td>NaN</td>\n",
       "    </tr>\n",
       "    <tr>\n",
       "      <th>2</th>\n",
       "      <td>VeriFone Inc.</td>\n",
       "      <td>2015-04-01 00:01:25</td>\n",
       "      <td>2015-04-01 00:11:22</td>\n",
       "      <td>N</td>\n",
       "      <td>Standard rate</td>\n",
       "      <td>Brooklyn,Williamsburg (North Side)</td>\n",
       "      <td>Manhattan,Alphabet City</td>\n",
       "      <td>1.00</td>\n",
       "      <td>2.41</td>\n",
       "      <td>10.00</td>\n",
       "      <td>0.50</td>\n",
       "      <td>0.50</td>\n",
       "      <td>2.26</td>\n",
       "      <td>0.00</td>\n",
       "      <td>NaN</td>\n",
       "      <td>0.30</td>\n",
       "      <td>13.56</td>\n",
       "      <td>Credit card</td>\n",
       "      <td>Street-hail</td>\n",
       "      <td>NaN</td>\n",
       "    </tr>\n",
       "    <tr>\n",
       "      <th>3</th>\n",
       "      <td>VeriFone Inc.</td>\n",
       "      <td>2015-04-01 00:30:16</td>\n",
       "      <td>2015-04-01 00:55:27</td>\n",
       "      <td>N</td>\n",
       "      <td>Standard rate</td>\n",
       "      <td>Brooklyn,Williamsburg (North Side)</td>\n",
       "      <td>Manhattan,Times Sq/Theatre District</td>\n",
       "      <td>1.00</td>\n",
       "      <td>6.17</td>\n",
       "      <td>21.50</td>\n",
       "      <td>0.50</td>\n",
       "      <td>0.50</td>\n",
       "      <td>4.56</td>\n",
       "      <td>0.00</td>\n",
       "      <td>NaN</td>\n",
       "      <td>0.30</td>\n",
       "      <td>27.36</td>\n",
       "      <td>Credit card</td>\n",
       "      <td>Street-hail</td>\n",
       "      <td>NaN</td>\n",
       "    </tr>\n",
       "    <tr>\n",
       "      <th>4</th>\n",
       "      <td>VeriFone Inc.</td>\n",
       "      <td>2015-04-01 00:19:05</td>\n",
       "      <td>2015-04-01 00:39:33</td>\n",
       "      <td>N</td>\n",
       "      <td>Standard rate</td>\n",
       "      <td>Brooklyn,East Williamsburg</td>\n",
       "      <td>Manhattan,Clinton East</td>\n",
       "      <td>1.00</td>\n",
       "      <td>6.51</td>\n",
       "      <td>21.00</td>\n",
       "      <td>0.50</td>\n",
       "      <td>0.50</td>\n",
       "      <td>3.00</td>\n",
       "      <td>0.00</td>\n",
       "      <td>NaN</td>\n",
       "      <td>0.30</td>\n",
       "      <td>25.30</td>\n",
       "      <td>Credit card</td>\n",
       "      <td>Street-hail</td>\n",
       "      <td>NaN</td>\n",
       "    </tr>\n",
       "  </tbody>\n",
       "</table>\n",
       "</div>"
      ],
      "text/plain": [
       "                              vendor lpep_pickup_datetime  \\\n",
       "0  Creative Mobile Technologies, LLC  2015-04-01 00:26:00   \n",
       "1                      VeriFone Inc.  2015-04-01 00:17:41   \n",
       "2                      VeriFone Inc.  2015-04-01 00:01:25   \n",
       "3                      VeriFone Inc.  2015-04-01 00:30:16   \n",
       "4                      VeriFone Inc.  2015-04-01 00:19:05   \n",
       "\n",
       "  lpep_dropoff_datetime store_and_fwd_flag      rate_type  \\\n",
       "0   2015-04-01 00:27:14                  N  Standard rate   \n",
       "1   2015-04-01 00:19:45                  N  Standard rate   \n",
       "2   2015-04-01 00:11:22                  N  Standard rate   \n",
       "3   2015-04-01 00:55:27                  N  Standard rate   \n",
       "4   2015-04-01 00:39:33                  N  Standard rate   \n",
       "\n",
       "                             pu_location  \\\n",
       "0  Queens,Long Island City/Hunters Point   \n",
       "1   Queens,Long Island City/Queens Plaza   \n",
       "2     Brooklyn,Williamsburg (North Side)   \n",
       "3     Brooklyn,Williamsburg (North Side)   \n",
       "4             Brooklyn,East Williamsburg   \n",
       "\n",
       "                             do_location  passenger_count  trip_distance  \\\n",
       "0  Queens,Long Island City/Hunters Point             1.00           8.30   \n",
       "1   Queens,Long Island City/Queens Plaza             1.00           0.00   \n",
       "2                Manhattan,Alphabet City             1.00           2.41   \n",
       "3    Manhattan,Times Sq/Theatre District             1.00           6.17   \n",
       "4                 Manhattan,Clinton East             1.00           6.51   \n",
       "\n",
       "   fare_amount  extra  mta_tax  tip_amount  tolls_amount  ehail_fee  \\\n",
       "0         3.00   0.50     0.50        0.00          0.00        NaN   \n",
       "1         3.50   0.50     0.50        0.00          0.00        NaN   \n",
       "2        10.00   0.50     0.50        2.26          0.00        NaN   \n",
       "3        21.50   0.50     0.50        4.56          0.00        NaN   \n",
       "4        21.00   0.50     0.50        3.00          0.00        NaN   \n",
       "\n",
       "   improvement_surcharge  total_amount payment_type    trip_type  \\\n",
       "0                   0.30          4.30         Cash  Street-hail   \n",
       "1                   0.30          4.80         Cash  Street-hail   \n",
       "2                   0.30         13.56  Credit card  Street-hail   \n",
       "3                   0.30         27.36  Credit card  Street-hail   \n",
       "4                   0.30         25.30  Credit card  Street-hail   \n",
       "\n",
       "   congestion_surcharge  \n",
       "0                   NaN  \n",
       "1                   NaN  \n",
       "2                   NaN  \n",
       "3                   NaN  \n",
       "4                   NaN  "
      ]
     },
     "execution_count": 369,
     "metadata": {},
     "output_type": "execute_result"
    }
   ],
   "source": [
    "taxis_df_cleaned = copy_dataframe(taxis_df)\n",
    "taxis_df_cleaned.head()"
   ]
  },
  {
   "cell_type": "code",
   "execution_count": 371,
   "metadata": {},
   "outputs": [
    {
     "data": {
      "text/html": [
       "<div>\n",
       "<style scoped>\n",
       "    .dataframe tbody tr th:only-of-type {\n",
       "        vertical-align: middle;\n",
       "    }\n",
       "\n",
       "    .dataframe tbody tr th {\n",
       "        vertical-align: top;\n",
       "    }\n",
       "\n",
       "    .dataframe thead th {\n",
       "        text-align: right;\n",
       "    }\n",
       "</style>\n",
       "<table border=\"1\" class=\"dataframe\">\n",
       "  <thead>\n",
       "    <tr style=\"text-align: right;\">\n",
       "      <th></th>\n",
       "      <th>vendor</th>\n",
       "      <th>lpep_pickup_datetime</th>\n",
       "      <th>lpep_dropoff_datetime</th>\n",
       "      <th>store_and_fwd_flag</th>\n",
       "      <th>rate_type</th>\n",
       "      <th>pu_location</th>\n",
       "      <th>do_location</th>\n",
       "      <th>passenger_count</th>\n",
       "      <th>trip_distance</th>\n",
       "      <th>fare_amount</th>\n",
       "      <th>extra</th>\n",
       "      <th>mta_tax</th>\n",
       "      <th>tip_amount</th>\n",
       "      <th>tolls_amount</th>\n",
       "      <th>ehail_fee</th>\n",
       "      <th>improvement_surcharge</th>\n",
       "      <th>total_amount</th>\n",
       "      <th>payment_type</th>\n",
       "      <th>trip_type</th>\n",
       "      <th>congestion_surcharge</th>\n",
       "    </tr>\n",
       "  </thead>\n",
       "  <tbody>\n",
       "    <tr>\n",
       "      <th>0</th>\n",
       "      <td>Creative Mobile Technologies, LLC</td>\n",
       "      <td>2015-04-01 00:26:00</td>\n",
       "      <td>2015-04-01 00:27:14</td>\n",
       "      <td>N</td>\n",
       "      <td>Standard rate</td>\n",
       "      <td>Queens,Long Island City/Hunters Point</td>\n",
       "      <td>Queens,Long Island City/Hunters Point</td>\n",
       "      <td>1.00</td>\n",
       "      <td>8.30</td>\n",
       "      <td>3.00</td>\n",
       "      <td>0.50</td>\n",
       "      <td>0.50</td>\n",
       "      <td>0.00</td>\n",
       "      <td>0.00</td>\n",
       "      <td>NaN</td>\n",
       "      <td>0.30</td>\n",
       "      <td>4.30</td>\n",
       "      <td>Cash</td>\n",
       "      <td>Street-hail</td>\n",
       "      <td>NaN</td>\n",
       "    </tr>\n",
       "    <tr>\n",
       "      <th>1</th>\n",
       "      <td>VeriFone Inc.</td>\n",
       "      <td>2015-04-01 00:17:41</td>\n",
       "      <td>2015-04-01 00:19:45</td>\n",
       "      <td>N</td>\n",
       "      <td>Standard rate</td>\n",
       "      <td>Queens,Long Island City/Queens Plaza</td>\n",
       "      <td>Queens,Long Island City/Queens Plaza</td>\n",
       "      <td>1.00</td>\n",
       "      <td>0.00</td>\n",
       "      <td>3.50</td>\n",
       "      <td>0.50</td>\n",
       "      <td>0.50</td>\n",
       "      <td>0.00</td>\n",
       "      <td>0.00</td>\n",
       "      <td>NaN</td>\n",
       "      <td>0.30</td>\n",
       "      <td>4.80</td>\n",
       "      <td>Cash</td>\n",
       "      <td>Street-hail</td>\n",
       "      <td>NaN</td>\n",
       "    </tr>\n",
       "    <tr>\n",
       "      <th>2</th>\n",
       "      <td>VeriFone Inc.</td>\n",
       "      <td>2015-04-01 00:01:25</td>\n",
       "      <td>2015-04-01 00:11:22</td>\n",
       "      <td>N</td>\n",
       "      <td>Standard rate</td>\n",
       "      <td>Brooklyn,Williamsburg (North Side)</td>\n",
       "      <td>Manhattan,Alphabet City</td>\n",
       "      <td>1.00</td>\n",
       "      <td>2.41</td>\n",
       "      <td>10.00</td>\n",
       "      <td>0.50</td>\n",
       "      <td>0.50</td>\n",
       "      <td>2.26</td>\n",
       "      <td>0.00</td>\n",
       "      <td>NaN</td>\n",
       "      <td>0.30</td>\n",
       "      <td>13.56</td>\n",
       "      <td>Credit card</td>\n",
       "      <td>Street-hail</td>\n",
       "      <td>NaN</td>\n",
       "    </tr>\n",
       "    <tr>\n",
       "      <th>3</th>\n",
       "      <td>VeriFone Inc.</td>\n",
       "      <td>2015-04-01 00:30:16</td>\n",
       "      <td>2015-04-01 00:55:27</td>\n",
       "      <td>N</td>\n",
       "      <td>Standard rate</td>\n",
       "      <td>Brooklyn,Williamsburg (North Side)</td>\n",
       "      <td>Manhattan,Times Sq/Theatre District</td>\n",
       "      <td>1.00</td>\n",
       "      <td>6.17</td>\n",
       "      <td>21.50</td>\n",
       "      <td>0.50</td>\n",
       "      <td>0.50</td>\n",
       "      <td>4.56</td>\n",
       "      <td>0.00</td>\n",
       "      <td>NaN</td>\n",
       "      <td>0.30</td>\n",
       "      <td>27.36</td>\n",
       "      <td>Credit card</td>\n",
       "      <td>Street-hail</td>\n",
       "      <td>NaN</td>\n",
       "    </tr>\n",
       "    <tr>\n",
       "      <th>4</th>\n",
       "      <td>VeriFone Inc.</td>\n",
       "      <td>2015-04-01 00:19:05</td>\n",
       "      <td>2015-04-01 00:39:33</td>\n",
       "      <td>N</td>\n",
       "      <td>Standard rate</td>\n",
       "      <td>Brooklyn,East Williamsburg</td>\n",
       "      <td>Manhattan,Clinton East</td>\n",
       "      <td>1.00</td>\n",
       "      <td>6.51</td>\n",
       "      <td>21.00</td>\n",
       "      <td>0.50</td>\n",
       "      <td>0.50</td>\n",
       "      <td>3.00</td>\n",
       "      <td>0.00</td>\n",
       "      <td>NaN</td>\n",
       "      <td>0.30</td>\n",
       "      <td>25.30</td>\n",
       "      <td>Credit card</td>\n",
       "      <td>Street-hail</td>\n",
       "      <td>NaN</td>\n",
       "    </tr>\n",
       "  </tbody>\n",
       "</table>\n",
       "</div>"
      ],
      "text/plain": [
       "                              vendor lpep_pickup_datetime  \\\n",
       "0  Creative Mobile Technologies, LLC  2015-04-01 00:26:00   \n",
       "1                      VeriFone Inc.  2015-04-01 00:17:41   \n",
       "2                      VeriFone Inc.  2015-04-01 00:01:25   \n",
       "3                      VeriFone Inc.  2015-04-01 00:30:16   \n",
       "4                      VeriFone Inc.  2015-04-01 00:19:05   \n",
       "\n",
       "  lpep_dropoff_datetime store_and_fwd_flag      rate_type  \\\n",
       "0   2015-04-01 00:27:14                  N  Standard rate   \n",
       "1   2015-04-01 00:19:45                  N  Standard rate   \n",
       "2   2015-04-01 00:11:22                  N  Standard rate   \n",
       "3   2015-04-01 00:55:27                  N  Standard rate   \n",
       "4   2015-04-01 00:39:33                  N  Standard rate   \n",
       "\n",
       "                             pu_location  \\\n",
       "0  Queens,Long Island City/Hunters Point   \n",
       "1   Queens,Long Island City/Queens Plaza   \n",
       "2     Brooklyn,Williamsburg (North Side)   \n",
       "3     Brooklyn,Williamsburg (North Side)   \n",
       "4             Brooklyn,East Williamsburg   \n",
       "\n",
       "                             do_location  passenger_count  trip_distance  \\\n",
       "0  Queens,Long Island City/Hunters Point             1.00           8.30   \n",
       "1   Queens,Long Island City/Queens Plaza             1.00           0.00   \n",
       "2                Manhattan,Alphabet City             1.00           2.41   \n",
       "3    Manhattan,Times Sq/Theatre District             1.00           6.17   \n",
       "4                 Manhattan,Clinton East             1.00           6.51   \n",
       "\n",
       "   fare_amount  extra  mta_tax  tip_amount  tolls_amount  ehail_fee  \\\n",
       "0         3.00   0.50     0.50        0.00          0.00        NaN   \n",
       "1         3.50   0.50     0.50        0.00          0.00        NaN   \n",
       "2        10.00   0.50     0.50        2.26          0.00        NaN   \n",
       "3        21.50   0.50     0.50        4.56          0.00        NaN   \n",
       "4        21.00   0.50     0.50        3.00          0.00        NaN   \n",
       "\n",
       "   improvement_surcharge  total_amount payment_type    trip_type  \\\n",
       "0                   0.30          4.30         Cash  Street-hail   \n",
       "1                   0.30          4.80         Cash  Street-hail   \n",
       "2                   0.30         13.56  Credit card  Street-hail   \n",
       "3                   0.30         27.36  Credit card  Street-hail   \n",
       "4                   0.30         25.30  Credit card  Street-hail   \n",
       "\n",
       "   congestion_surcharge  \n",
       "0                   NaN  \n",
       "1                   NaN  \n",
       "2                   NaN  \n",
       "3                   NaN  \n",
       "4                   NaN  "
      ]
     },
     "execution_count": 371,
     "metadata": {},
     "output_type": "execute_result"
    }
   ],
   "source": [
    "taxis_df_cleaned = taxis_df_cleaned.drop_duplicates()\n",
    "taxis_df_cleaned.head()"
   ]
  },
  {
   "cell_type": "markdown",
   "metadata": {},
   "source": [
    "Let's make sure the duplicates were actually removed."
   ]
  },
  {
   "cell_type": "code",
   "execution_count": 376,
   "metadata": {},
   "outputs": [
    {
     "data": {
      "text/html": [
       "<div>\n",
       "<style scoped>\n",
       "    .dataframe tbody tr th:only-of-type {\n",
       "        vertical-align: middle;\n",
       "    }\n",
       "\n",
       "    .dataframe tbody tr th {\n",
       "        vertical-align: top;\n",
       "    }\n",
       "\n",
       "    .dataframe thead th {\n",
       "        text-align: right;\n",
       "    }\n",
       "</style>\n",
       "<table border=\"1\" class=\"dataframe\">\n",
       "  <thead>\n",
       "    <tr style=\"text-align: right;\">\n",
       "      <th></th>\n",
       "      <th>vendor</th>\n",
       "      <th>lpep_pickup_datetime</th>\n",
       "      <th>lpep_dropoff_datetime</th>\n",
       "      <th>store_and_fwd_flag</th>\n",
       "      <th>rate_type</th>\n",
       "      <th>pu_location</th>\n",
       "      <th>do_location</th>\n",
       "      <th>passenger_count</th>\n",
       "      <th>trip_distance</th>\n",
       "      <th>fare_amount</th>\n",
       "      <th>extra</th>\n",
       "      <th>mta_tax</th>\n",
       "      <th>tip_amount</th>\n",
       "      <th>tolls_amount</th>\n",
       "      <th>ehail_fee</th>\n",
       "      <th>improvement_surcharge</th>\n",
       "      <th>total_amount</th>\n",
       "      <th>payment_type</th>\n",
       "      <th>trip_type</th>\n",
       "      <th>congestion_surcharge</th>\n",
       "    </tr>\n",
       "  </thead>\n",
       "  <tbody>\n",
       "  </tbody>\n",
       "</table>\n",
       "</div>"
      ],
      "text/plain": [
       "Empty DataFrame\n",
       "Columns: [vendor, lpep_pickup_datetime, lpep_dropoff_datetime, store_and_fwd_flag, rate_type, pu_location, do_location, passenger_count, trip_distance, fare_amount, extra, mta_tax, tip_amount, tolls_amount, ehail_fee, improvement_surcharge, total_amount, payment_type, trip_type, congestion_surcharge]\n",
       "Index: []"
      ]
     },
     "execution_count": 376,
     "metadata": {},
     "output_type": "execute_result"
    }
   ],
   "source": [
    "duplicates = find_duplicates(taxis_df_cleaned)\n",
    "duplicates"
   ]
  },
  {
   "cell_type": "markdown",
   "metadata": {},
   "source": [
    "### Negative Values in Columns"
   ]
  },
  {
   "cell_type": "markdown",
   "metadata": {},
   "source": [
    "Some columns in our dataset contain negative numbers, but are they actually allowed in our context of a taxis dataset? Let's check first what columns in our dataset have negative values."
   ]
  },
  {
   "cell_type": "code",
   "execution_count": 455,
   "metadata": {},
   "outputs": [],
   "source": [
    "def columns_with_negatives(df):\n",
    "    numeric_columns = df.select_dtypes(include=['int', 'float'])\n",
    "    columns_with_negatives = numeric_columns.columns[(numeric_columns < 0).any()]\n",
    "    return columns_with_negatives\n",
    "    \n",
    "def min_of_columns(df, columns_list):\n",
    "    if isinstance(columns_list, pd.Index):\n",
    "        columns_list = columns_list.to_list()\n",
    "    min_values = tuple(df[col].min() for col in columns_list)\n",
    "    return min_values\n",
    "\n",
    "def count_records_with_negatives(df, columns_with_negatives):\n",
    "    num_records_with_negatives = (df[columns_with_negatives] <0).any(axis=1).sum()\n",
    "    return num_records_with_negatives\n",
    "\n",
    "def delete_records_with_negatives(df, columns_with_negatives):\n",
    "    df_cleaned = df[~(df[columns_with_negatives] < 0).any(axis=1)]\n",
    "    return df_cleaned"
   ]
  },
  {
   "cell_type": "code",
   "execution_count": 444,
   "metadata": {},
   "outputs": [
    {
     "data": {
      "text/plain": [
       "Index(['fare_amount', 'extra', 'mta_tax', 'tip_amount', 'tolls_amount',\n",
       "       'improvement_surcharge', 'total_amount'],\n",
       "      dtype='object')"
      ]
     },
     "execution_count": 444,
     "metadata": {},
     "output_type": "execute_result"
    }
   ],
   "source": [
    "columns_with_negatives = columns_with_negatives(taxis_df_cleaned)\n",
    "columns_with_negatives\n"
   ]
  },
  {
   "cell_type": "markdown",
   "metadata": {},
   "source": [
    "We can also verify that those values contain negative values by printing the min value of those columns. They should be all be less than zero."
   ]
  },
  {
   "cell_type": "code",
   "execution_count": 446,
   "metadata": {},
   "outputs": [
    {
     "data": {
      "text/plain": [
       "(-499.0, -1.0, -0.5, -52.0, -9.75, -0.3, -499.0)"
      ]
     },
     "execution_count": 446,
     "metadata": {},
     "output_type": "execute_result"
    }
   ],
   "source": [
    "min_of_columns(taxis_df_cleaned, columns_with_negatives)"
   ]
  },
  {
   "cell_type": "markdown",
   "metadata": {},
   "source": [
    "However in the context of a taxis dataset that records information about trip rides, negatives values in monetary columns are not typical. It's uncommon to have negative amounts or charges in the real-world taxi industry. Those negatives values are be indicative of data quality issues, errors, or anomalies in our dataset. Hence, those rows should be all removed to have a consistent and correct dataset."
   ]
  },
  {
   "cell_type": "code",
   "execution_count": 456,
   "metadata": {},
   "outputs": [
    {
     "data": {
      "text/plain": [
       "2425"
      ]
     },
     "execution_count": 456,
     "metadata": {},
     "output_type": "execute_result"
    }
   ],
   "source": [
    "count_negative_records = count_records_with_negatives(taxis_df_cleaned, columns_with_negatives)\n",
    "count_negative_records"
   ]
  },
  {
   "cell_type": "code",
   "execution_count": 453,
   "metadata": {},
   "outputs": [],
   "source": [
    "taxis_df_cleaned = delete_records_with_negatives(taxis_df_cleaned, columns_with_negatives)"
   ]
  },
  {
   "cell_type": "code",
   "execution_count": 448,
   "metadata": {},
   "outputs": [
    {
     "data": {
      "text/plain": [
       "(0.0, 0.25, 0.0, 0.0, 0.0, 0.0, 0.0)"
      ]
     },
     "execution_count": 448,
     "metadata": {},
     "output_type": "execute_result"
    }
   ],
   "source": [
    "min_of_columns(taxis_df_cleaned, columns_with_negatives)"
   ]
  },
  {
   "cell_type": "markdown",
   "metadata": {},
   "source": [
    "We can see that after removing the 2425 rows with negative values in any of the monetary columns, when we get the min of each of those rows we get a value greater or equal to 0. This proves that the records were actually deleted."
   ]
  },
  {
   "cell_type": "code",
   "execution_count": 464,
   "metadata": {},
   "outputs": [
    {
     "data": {
      "text/html": [
       "<div>\n",
       "<style scoped>\n",
       "    .dataframe tbody tr th:only-of-type {\n",
       "        vertical-align: middle;\n",
       "    }\n",
       "\n",
       "    .dataframe tbody tr th {\n",
       "        vertical-align: top;\n",
       "    }\n",
       "\n",
       "    .dataframe thead th {\n",
       "        text-align: right;\n",
       "    }\n",
       "</style>\n",
       "<table border=\"1\" class=\"dataframe\">\n",
       "  <thead>\n",
       "    <tr style=\"text-align: right;\">\n",
       "      <th></th>\n",
       "      <th>vendor</th>\n",
       "      <th>lpep_pickup_datetime</th>\n",
       "      <th>lpep_dropoff_datetime</th>\n",
       "      <th>store_and_fwd_flag</th>\n",
       "      <th>rate_type</th>\n",
       "      <th>pu_location</th>\n",
       "      <th>do_location</th>\n",
       "      <th>passenger_count</th>\n",
       "      <th>trip_distance</th>\n",
       "      <th>fare_amount</th>\n",
       "      <th>extra</th>\n",
       "      <th>mta_tax</th>\n",
       "      <th>tip_amount</th>\n",
       "      <th>tolls_amount</th>\n",
       "      <th>ehail_fee</th>\n",
       "      <th>improvement_surcharge</th>\n",
       "      <th>total_amount</th>\n",
       "      <th>payment_type</th>\n",
       "      <th>trip_type</th>\n",
       "      <th>congestion_surcharge</th>\n",
       "    </tr>\n",
       "  </thead>\n",
       "  <tbody>\n",
       "    <tr>\n",
       "      <th>311</th>\n",
       "      <td>Creative Mobile Technologies, LLC</td>\n",
       "      <td>2015-04-01 00:46:12</td>\n",
       "      <td>2015-04-01 00:52:32</td>\n",
       "      <td>N</td>\n",
       "      <td>Negotiated fare</td>\n",
       "      <td>Bronx,Morrisania/Melrose</td>\n",
       "      <td>Bronx,Hunts Point</td>\n",
       "      <td>1.00</td>\n",
       "      <td>1.30</td>\n",
       "      <td>0.00</td>\n",
       "      <td>NaN</td>\n",
       "      <td>0.00</td>\n",
       "      <td>0.00</td>\n",
       "      <td>0.00</td>\n",
       "      <td>NaN</td>\n",
       "      <td>0.00</td>\n",
       "      <td>0.00</td>\n",
       "      <td>Cash</td>\n",
       "      <td>Dispatch</td>\n",
       "      <td>NaN</td>\n",
       "    </tr>\n",
       "    <tr>\n",
       "      <th>404</th>\n",
       "      <td>Creative Mobile Technologies, LLC</td>\n",
       "      <td>2015-04-01 00:30:51</td>\n",
       "      <td>2015-04-01 00:41:53</td>\n",
       "      <td>N</td>\n",
       "      <td>Negotiated fare</td>\n",
       "      <td>Unknown,NV</td>\n",
       "      <td>Manhattan,Hamilton Heights</td>\n",
       "      <td>1.00</td>\n",
       "      <td>2.10</td>\n",
       "      <td>0.00</td>\n",
       "      <td>NaN</td>\n",
       "      <td>0.00</td>\n",
       "      <td>0.00</td>\n",
       "      <td>0.00</td>\n",
       "      <td>NaN</td>\n",
       "      <td>0.00</td>\n",
       "      <td>0.00</td>\n",
       "      <td>No charge</td>\n",
       "      <td>Dispatch</td>\n",
       "      <td>NaN</td>\n",
       "    </tr>\n",
       "    <tr>\n",
       "      <th>587</th>\n",
       "      <td>Creative Mobile Technologies, LLC</td>\n",
       "      <td>2015-04-01 00:05:16</td>\n",
       "      <td>2015-04-01 00:38:15</td>\n",
       "      <td>N</td>\n",
       "      <td>Negotiated fare</td>\n",
       "      <td>Manhattan,East Harlem North</td>\n",
       "      <td>Manhattan,Inwood</td>\n",
       "      <td>1.00</td>\n",
       "      <td>6.80</td>\n",
       "      <td>0.00</td>\n",
       "      <td>NaN</td>\n",
       "      <td>0.00</td>\n",
       "      <td>0.00</td>\n",
       "      <td>0.00</td>\n",
       "      <td>NaN</td>\n",
       "      <td>0.00</td>\n",
       "      <td>0.00</td>\n",
       "      <td>NaN</td>\n",
       "      <td>Dispatch</td>\n",
       "      <td>NaN</td>\n",
       "    </tr>\n",
       "    <tr>\n",
       "      <th>588</th>\n",
       "      <td>Creative Mobile Technologies, LLC</td>\n",
       "      <td>2015-04-01 00:59:42</td>\n",
       "      <td>2015-04-01 02:43:06</td>\n",
       "      <td>N</td>\n",
       "      <td>Negotiated fare</td>\n",
       "      <td>Manhattan,East Harlem North</td>\n",
       "      <td>Manhattan,East Harlem North</td>\n",
       "      <td>1.00</td>\n",
       "      <td>13.50</td>\n",
       "      <td>0.00</td>\n",
       "      <td>NaN</td>\n",
       "      <td>0.00</td>\n",
       "      <td>0.00</td>\n",
       "      <td>0.00</td>\n",
       "      <td>NaN</td>\n",
       "      <td>0.00</td>\n",
       "      <td>0.00</td>\n",
       "      <td>NaN</td>\n",
       "      <td>Dispatch</td>\n",
       "      <td>NaN</td>\n",
       "    </tr>\n",
       "    <tr>\n",
       "      <th>1663</th>\n",
       "      <td>VeriFone Inc.</td>\n",
       "      <td>2015-04-01 00:31:42</td>\n",
       "      <td>2015-04-01 00:32:04</td>\n",
       "      <td>N</td>\n",
       "      <td>Standard rate</td>\n",
       "      <td>Queens,Long Island City/Queens Plaza</td>\n",
       "      <td>Queens,Long Island City/Queens Plaza</td>\n",
       "      <td>1.00</td>\n",
       "      <td>0.00</td>\n",
       "      <td>0.00</td>\n",
       "      <td>NaN</td>\n",
       "      <td>0.00</td>\n",
       "      <td>0.00</td>\n",
       "      <td>0.00</td>\n",
       "      <td>NaN</td>\n",
       "      <td>0.30</td>\n",
       "      <td>0.00</td>\n",
       "      <td>Credit card</td>\n",
       "      <td>Street-hail</td>\n",
       "      <td>NaN</td>\n",
       "    </tr>\n",
       "    <tr>\n",
       "      <th>...</th>\n",
       "      <td>...</td>\n",
       "      <td>...</td>\n",
       "      <td>...</td>\n",
       "      <td>...</td>\n",
       "      <td>...</td>\n",
       "      <td>...</td>\n",
       "      <td>...</td>\n",
       "      <td>...</td>\n",
       "      <td>...</td>\n",
       "      <td>...</td>\n",
       "      <td>...</td>\n",
       "      <td>...</td>\n",
       "      <td>...</td>\n",
       "      <td>...</td>\n",
       "      <td>...</td>\n",
       "      <td>...</td>\n",
       "      <td>...</td>\n",
       "      <td>...</td>\n",
       "      <td>...</td>\n",
       "      <td>...</td>\n",
       "    </tr>\n",
       "    <tr>\n",
       "      <th>1661314</th>\n",
       "      <td>Creative Mobile Technologies, LLC</td>\n",
       "      <td>2015-04-30 22:27:17</td>\n",
       "      <td>2015-04-30 22:38:18</td>\n",
       "      <td>N</td>\n",
       "      <td>Negotiated fare</td>\n",
       "      <td>Manhattan,Washington Heights South</td>\n",
       "      <td>Manhattan,Central Harlem North</td>\n",
       "      <td>2.00</td>\n",
       "      <td>3.00</td>\n",
       "      <td>0.00</td>\n",
       "      <td>NaN</td>\n",
       "      <td>0.00</td>\n",
       "      <td>0.00</td>\n",
       "      <td>0.00</td>\n",
       "      <td>NaN</td>\n",
       "      <td>0.00</td>\n",
       "      <td>0.00</td>\n",
       "      <td>NaN</td>\n",
       "      <td>Dispatch</td>\n",
       "      <td>NaN</td>\n",
       "    </tr>\n",
       "    <tr>\n",
       "      <th>1661448</th>\n",
       "      <td>Creative Mobile Technologies, LLC</td>\n",
       "      <td>2015-04-30 23:55:10</td>\n",
       "      <td>2015-05-01 00:02:53</td>\n",
       "      <td>N</td>\n",
       "      <td>Negotiated fare</td>\n",
       "      <td>Manhattan,Central Harlem North</td>\n",
       "      <td>Manhattan,Central Harlem</td>\n",
       "      <td>1.00</td>\n",
       "      <td>1.50</td>\n",
       "      <td>0.00</td>\n",
       "      <td>NaN</td>\n",
       "      <td>0.00</td>\n",
       "      <td>0.00</td>\n",
       "      <td>0.00</td>\n",
       "      <td>NaN</td>\n",
       "      <td>0.00</td>\n",
       "      <td>0.00</td>\n",
       "      <td>Cash</td>\n",
       "      <td>Dispatch</td>\n",
       "      <td>NaN</td>\n",
       "    </tr>\n",
       "    <tr>\n",
       "      <th>1661848</th>\n",
       "      <td>Creative Mobile Technologies, LLC</td>\n",
       "      <td>2015-04-30 23:09:05</td>\n",
       "      <td>2015-04-30 23:18:23</td>\n",
       "      <td>N</td>\n",
       "      <td>Negotiated fare</td>\n",
       "      <td>Bronx,Highbridge</td>\n",
       "      <td>Bronx,West Concourse</td>\n",
       "      <td>NaN</td>\n",
       "      <td>1.00</td>\n",
       "      <td>0.00</td>\n",
       "      <td>NaN</td>\n",
       "      <td>0.00</td>\n",
       "      <td>0.00</td>\n",
       "      <td>0.00</td>\n",
       "      <td>NaN</td>\n",
       "      <td>0.00</td>\n",
       "      <td>0.00</td>\n",
       "      <td>Cash</td>\n",
       "      <td>Dispatch</td>\n",
       "      <td>NaN</td>\n",
       "    </tr>\n",
       "    <tr>\n",
       "      <th>1662185</th>\n",
       "      <td>Creative Mobile Technologies, LLC</td>\n",
       "      <td>2015-04-30 23:17:44</td>\n",
       "      <td>2015-04-30 23:30:57</td>\n",
       "      <td>N</td>\n",
       "      <td>Negotiated fare</td>\n",
       "      <td>Bronx,Highbridge</td>\n",
       "      <td>Bronx,University Heights/Morris Heights</td>\n",
       "      <td>1.00</td>\n",
       "      <td>2.30</td>\n",
       "      <td>0.00</td>\n",
       "      <td>NaN</td>\n",
       "      <td>0.00</td>\n",
       "      <td>0.00</td>\n",
       "      <td>0.00</td>\n",
       "      <td>NaN</td>\n",
       "      <td>0.00</td>\n",
       "      <td>0.00</td>\n",
       "      <td>Cash</td>\n",
       "      <td>Dispatch</td>\n",
       "      <td>NaN</td>\n",
       "    </tr>\n",
       "    <tr>\n",
       "      <th>1662829</th>\n",
       "      <td>Creative Mobile Technologies, LLC</td>\n",
       "      <td>2015-04-30 23:01:59</td>\n",
       "      <td>2015-04-30 23:02:40</td>\n",
       "      <td>N</td>\n",
       "      <td>Negotiated fare</td>\n",
       "      <td>Brooklyn,Crown Heights North</td>\n",
       "      <td>Brooklyn,Crown Heights North</td>\n",
       "      <td>1.00</td>\n",
       "      <td>9.10</td>\n",
       "      <td>0.00</td>\n",
       "      <td>NaN</td>\n",
       "      <td>0.00</td>\n",
       "      <td>0.00</td>\n",
       "      <td>0.00</td>\n",
       "      <td>NaN</td>\n",
       "      <td>0.00</td>\n",
       "      <td>0.00</td>\n",
       "      <td>NaN</td>\n",
       "      <td>Dispatch</td>\n",
       "      <td>NaN</td>\n",
       "    </tr>\n",
       "  </tbody>\n",
       "</table>\n",
       "<p>5063 rows × 20 columns</p>\n",
       "</div>"
      ],
      "text/plain": [
       "                                    vendor lpep_pickup_datetime  \\\n",
       "311      Creative Mobile Technologies, LLC  2015-04-01 00:46:12   \n",
       "404      Creative Mobile Technologies, LLC  2015-04-01 00:30:51   \n",
       "587      Creative Mobile Technologies, LLC  2015-04-01 00:05:16   \n",
       "588      Creative Mobile Technologies, LLC  2015-04-01 00:59:42   \n",
       "1663                         VeriFone Inc.  2015-04-01 00:31:42   \n",
       "...                                    ...                  ...   \n",
       "1661314  Creative Mobile Technologies, LLC  2015-04-30 22:27:17   \n",
       "1661448  Creative Mobile Technologies, LLC  2015-04-30 23:55:10   \n",
       "1661848  Creative Mobile Technologies, LLC  2015-04-30 23:09:05   \n",
       "1662185  Creative Mobile Technologies, LLC  2015-04-30 23:17:44   \n",
       "1662829  Creative Mobile Technologies, LLC  2015-04-30 23:01:59   \n",
       "\n",
       "        lpep_dropoff_datetime store_and_fwd_flag        rate_type  \\\n",
       "311       2015-04-01 00:52:32                  N  Negotiated fare   \n",
       "404       2015-04-01 00:41:53                  N  Negotiated fare   \n",
       "587       2015-04-01 00:38:15                  N  Negotiated fare   \n",
       "588       2015-04-01 02:43:06                  N  Negotiated fare   \n",
       "1663      2015-04-01 00:32:04                  N    Standard rate   \n",
       "...                       ...                ...              ...   \n",
       "1661314   2015-04-30 22:38:18                  N  Negotiated fare   \n",
       "1661448   2015-05-01 00:02:53                  N  Negotiated fare   \n",
       "1661848   2015-04-30 23:18:23                  N  Negotiated fare   \n",
       "1662185   2015-04-30 23:30:57                  N  Negotiated fare   \n",
       "1662829   2015-04-30 23:02:40                  N  Negotiated fare   \n",
       "\n",
       "                                  pu_location  \\\n",
       "311                  Bronx,Morrisania/Melrose   \n",
       "404                                Unknown,NV   \n",
       "587               Manhattan,East Harlem North   \n",
       "588               Manhattan,East Harlem North   \n",
       "1663     Queens,Long Island City/Queens Plaza   \n",
       "...                                       ...   \n",
       "1661314    Manhattan,Washington Heights South   \n",
       "1661448        Manhattan,Central Harlem North   \n",
       "1661848                      Bronx,Highbridge   \n",
       "1662185                      Bronx,Highbridge   \n",
       "1662829          Brooklyn,Crown Heights North   \n",
       "\n",
       "                                     do_location  passenger_count  \\\n",
       "311                            Bronx,Hunts Point             1.00   \n",
       "404                   Manhattan,Hamilton Heights             1.00   \n",
       "587                             Manhattan,Inwood             1.00   \n",
       "588                  Manhattan,East Harlem North             1.00   \n",
       "1663        Queens,Long Island City/Queens Plaza             1.00   \n",
       "...                                          ...              ...   \n",
       "1661314           Manhattan,Central Harlem North             2.00   \n",
       "1661448                 Manhattan,Central Harlem             1.00   \n",
       "1661848                     Bronx,West Concourse              NaN   \n",
       "1662185  Bronx,University Heights/Morris Heights             1.00   \n",
       "1662829             Brooklyn,Crown Heights North             1.00   \n",
       "\n",
       "         trip_distance  fare_amount  extra  mta_tax  tip_amount  tolls_amount  \\\n",
       "311               1.30         0.00    NaN     0.00        0.00          0.00   \n",
       "404               2.10         0.00    NaN     0.00        0.00          0.00   \n",
       "587               6.80         0.00    NaN     0.00        0.00          0.00   \n",
       "588              13.50         0.00    NaN     0.00        0.00          0.00   \n",
       "1663              0.00         0.00    NaN     0.00        0.00          0.00   \n",
       "...                ...          ...    ...      ...         ...           ...   \n",
       "1661314           3.00         0.00    NaN     0.00        0.00          0.00   \n",
       "1661448           1.50         0.00    NaN     0.00        0.00          0.00   \n",
       "1661848           1.00         0.00    NaN     0.00        0.00          0.00   \n",
       "1662185           2.30         0.00    NaN     0.00        0.00          0.00   \n",
       "1662829           9.10         0.00    NaN     0.00        0.00          0.00   \n",
       "\n",
       "         ehail_fee  improvement_surcharge  total_amount payment_type  \\\n",
       "311            NaN                   0.00          0.00         Cash   \n",
       "404            NaN                   0.00          0.00    No charge   \n",
       "587            NaN                   0.00          0.00          NaN   \n",
       "588            NaN                   0.00          0.00          NaN   \n",
       "1663           NaN                   0.30          0.00  Credit card   \n",
       "...            ...                    ...           ...          ...   \n",
       "1661314        NaN                   0.00          0.00          NaN   \n",
       "1661448        NaN                   0.00          0.00         Cash   \n",
       "1661848        NaN                   0.00          0.00         Cash   \n",
       "1662185        NaN                   0.00          0.00         Cash   \n",
       "1662829        NaN                   0.00          0.00          NaN   \n",
       "\n",
       "           trip_type  congestion_surcharge  \n",
       "311         Dispatch                   NaN  \n",
       "404         Dispatch                   NaN  \n",
       "587         Dispatch                   NaN  \n",
       "588         Dispatch                   NaN  \n",
       "1663     Street-hail                   NaN  \n",
       "...              ...                   ...  \n",
       "1661314     Dispatch                   NaN  \n",
       "1661448     Dispatch                   NaN  \n",
       "1661848     Dispatch                   NaN  \n",
       "1662185     Dispatch                   NaN  \n",
       "1662829     Dispatch                   NaN  \n",
       "\n",
       "[5063 rows x 20 columns]"
      ]
     },
     "execution_count": 464,
     "metadata": {},
     "output_type": "execute_result"
    }
   ],
   "source": [
    "taxis_df_cleaned[taxis_df_cleaned.fare_amount==0]"
   ]
  },
  {
   "cell_type": "code",
   "execution_count": 485,
   "metadata": {},
   "outputs": [
    {
     "data": {
      "text/plain": [
       "rate_type\n",
       "Standard rate            1614269\n",
       "Negotiated fare            40970\n",
       "JFK                         4644\n",
       "Newark                      1304\n",
       "Nassau or Westchester        736\n",
       "Group ride                    54\n",
       "Unknown                        2\n",
       "Name: count, dtype: int64"
      ]
     },
     "execution_count": 485,
     "metadata": {},
     "output_type": "execute_result"
    }
   ],
   "source": [
    "taxis_df_cleaned.rate_type.value_counts()"
   ]
  },
  {
   "cell_type": "code",
   "execution_count": 483,
   "metadata": {},
   "outputs": [
    {
     "data": {
      "text/html": [
       "<div>\n",
       "<style scoped>\n",
       "    .dataframe tbody tr th:only-of-type {\n",
       "        vertical-align: middle;\n",
       "    }\n",
       "\n",
       "    .dataframe tbody tr th {\n",
       "        vertical-align: top;\n",
       "    }\n",
       "\n",
       "    .dataframe thead th {\n",
       "        text-align: right;\n",
       "    }\n",
       "</style>\n",
       "<table border=\"1\" class=\"dataframe\">\n",
       "  <thead>\n",
       "    <tr style=\"text-align: right;\">\n",
       "      <th></th>\n",
       "      <th>vendor</th>\n",
       "      <th>lpep_pickup_datetime</th>\n",
       "      <th>lpep_dropoff_datetime</th>\n",
       "      <th>store_and_fwd_flag</th>\n",
       "      <th>rate_type</th>\n",
       "      <th>pu_location</th>\n",
       "      <th>do_location</th>\n",
       "      <th>passenger_count</th>\n",
       "      <th>trip_distance</th>\n",
       "      <th>fare_amount</th>\n",
       "      <th>extra</th>\n",
       "      <th>mta_tax</th>\n",
       "      <th>tip_amount</th>\n",
       "      <th>tolls_amount</th>\n",
       "      <th>ehail_fee</th>\n",
       "      <th>improvement_surcharge</th>\n",
       "      <th>total_amount</th>\n",
       "      <th>payment_type</th>\n",
       "      <th>trip_type</th>\n",
       "      <th>congestion_surcharge</th>\n",
       "    </tr>\n",
       "  </thead>\n",
       "  <tbody>\n",
       "    <tr>\n",
       "      <th>311</th>\n",
       "      <td>Creative Mobile Technologies, LLC</td>\n",
       "      <td>2015-04-01 00:46:12</td>\n",
       "      <td>2015-04-01 00:52:32</td>\n",
       "      <td>N</td>\n",
       "      <td>Negotiated fare</td>\n",
       "      <td>Bronx,Morrisania/Melrose</td>\n",
       "      <td>Bronx,Hunts Point</td>\n",
       "      <td>1.00</td>\n",
       "      <td>1.30</td>\n",
       "      <td>0.00</td>\n",
       "      <td>NaN</td>\n",
       "      <td>0.00</td>\n",
       "      <td>0.00</td>\n",
       "      <td>0.00</td>\n",
       "      <td>NaN</td>\n",
       "      <td>0.00</td>\n",
       "      <td>0.00</td>\n",
       "      <td>Cash</td>\n",
       "      <td>Dispatch</td>\n",
       "      <td>NaN</td>\n",
       "    </tr>\n",
       "    <tr>\n",
       "      <th>404</th>\n",
       "      <td>Creative Mobile Technologies, LLC</td>\n",
       "      <td>2015-04-01 00:30:51</td>\n",
       "      <td>2015-04-01 00:41:53</td>\n",
       "      <td>N</td>\n",
       "      <td>Negotiated fare</td>\n",
       "      <td>Unknown,NV</td>\n",
       "      <td>Manhattan,Hamilton Heights</td>\n",
       "      <td>1.00</td>\n",
       "      <td>2.10</td>\n",
       "      <td>0.00</td>\n",
       "      <td>NaN</td>\n",
       "      <td>0.00</td>\n",
       "      <td>0.00</td>\n",
       "      <td>0.00</td>\n",
       "      <td>NaN</td>\n",
       "      <td>0.00</td>\n",
       "      <td>0.00</td>\n",
       "      <td>No charge</td>\n",
       "      <td>Dispatch</td>\n",
       "      <td>NaN</td>\n",
       "    </tr>\n",
       "    <tr>\n",
       "      <th>587</th>\n",
       "      <td>Creative Mobile Technologies, LLC</td>\n",
       "      <td>2015-04-01 00:05:16</td>\n",
       "      <td>2015-04-01 00:38:15</td>\n",
       "      <td>N</td>\n",
       "      <td>Negotiated fare</td>\n",
       "      <td>Manhattan,East Harlem North</td>\n",
       "      <td>Manhattan,Inwood</td>\n",
       "      <td>1.00</td>\n",
       "      <td>6.80</td>\n",
       "      <td>0.00</td>\n",
       "      <td>NaN</td>\n",
       "      <td>0.00</td>\n",
       "      <td>0.00</td>\n",
       "      <td>0.00</td>\n",
       "      <td>NaN</td>\n",
       "      <td>0.00</td>\n",
       "      <td>0.00</td>\n",
       "      <td>NaN</td>\n",
       "      <td>Dispatch</td>\n",
       "      <td>NaN</td>\n",
       "    </tr>\n",
       "    <tr>\n",
       "      <th>588</th>\n",
       "      <td>Creative Mobile Technologies, LLC</td>\n",
       "      <td>2015-04-01 00:59:42</td>\n",
       "      <td>2015-04-01 02:43:06</td>\n",
       "      <td>N</td>\n",
       "      <td>Negotiated fare</td>\n",
       "      <td>Manhattan,East Harlem North</td>\n",
       "      <td>Manhattan,East Harlem North</td>\n",
       "      <td>1.00</td>\n",
       "      <td>13.50</td>\n",
       "      <td>0.00</td>\n",
       "      <td>NaN</td>\n",
       "      <td>0.00</td>\n",
       "      <td>0.00</td>\n",
       "      <td>0.00</td>\n",
       "      <td>NaN</td>\n",
       "      <td>0.00</td>\n",
       "      <td>0.00</td>\n",
       "      <td>NaN</td>\n",
       "      <td>Dispatch</td>\n",
       "      <td>NaN</td>\n",
       "    </tr>\n",
       "    <tr>\n",
       "      <th>1663</th>\n",
       "      <td>VeriFone Inc.</td>\n",
       "      <td>2015-04-01 00:31:42</td>\n",
       "      <td>2015-04-01 00:32:04</td>\n",
       "      <td>N</td>\n",
       "      <td>Standard rate</td>\n",
       "      <td>Queens,Long Island City/Queens Plaza</td>\n",
       "      <td>Queens,Long Island City/Queens Plaza</td>\n",
       "      <td>1.00</td>\n",
       "      <td>0.00</td>\n",
       "      <td>0.00</td>\n",
       "      <td>NaN</td>\n",
       "      <td>0.00</td>\n",
       "      <td>0.00</td>\n",
       "      <td>0.00</td>\n",
       "      <td>NaN</td>\n",
       "      <td>0.30</td>\n",
       "      <td>0.00</td>\n",
       "      <td>Credit card</td>\n",
       "      <td>Street-hail</td>\n",
       "      <td>NaN</td>\n",
       "    </tr>\n",
       "    <tr>\n",
       "      <th>...</th>\n",
       "      <td>...</td>\n",
       "      <td>...</td>\n",
       "      <td>...</td>\n",
       "      <td>...</td>\n",
       "      <td>...</td>\n",
       "      <td>...</td>\n",
       "      <td>...</td>\n",
       "      <td>...</td>\n",
       "      <td>...</td>\n",
       "      <td>...</td>\n",
       "      <td>...</td>\n",
       "      <td>...</td>\n",
       "      <td>...</td>\n",
       "      <td>...</td>\n",
       "      <td>...</td>\n",
       "      <td>...</td>\n",
       "      <td>...</td>\n",
       "      <td>...</td>\n",
       "      <td>...</td>\n",
       "      <td>...</td>\n",
       "    </tr>\n",
       "    <tr>\n",
       "      <th>1661314</th>\n",
       "      <td>Creative Mobile Technologies, LLC</td>\n",
       "      <td>2015-04-30 22:27:17</td>\n",
       "      <td>2015-04-30 22:38:18</td>\n",
       "      <td>N</td>\n",
       "      <td>Negotiated fare</td>\n",
       "      <td>Manhattan,Washington Heights South</td>\n",
       "      <td>Manhattan,Central Harlem North</td>\n",
       "      <td>2.00</td>\n",
       "      <td>3.00</td>\n",
       "      <td>0.00</td>\n",
       "      <td>NaN</td>\n",
       "      <td>0.00</td>\n",
       "      <td>0.00</td>\n",
       "      <td>0.00</td>\n",
       "      <td>NaN</td>\n",
       "      <td>0.00</td>\n",
       "      <td>0.00</td>\n",
       "      <td>NaN</td>\n",
       "      <td>Dispatch</td>\n",
       "      <td>NaN</td>\n",
       "    </tr>\n",
       "    <tr>\n",
       "      <th>1661448</th>\n",
       "      <td>Creative Mobile Technologies, LLC</td>\n",
       "      <td>2015-04-30 23:55:10</td>\n",
       "      <td>2015-05-01 00:02:53</td>\n",
       "      <td>N</td>\n",
       "      <td>Negotiated fare</td>\n",
       "      <td>Manhattan,Central Harlem North</td>\n",
       "      <td>Manhattan,Central Harlem</td>\n",
       "      <td>1.00</td>\n",
       "      <td>1.50</td>\n",
       "      <td>0.00</td>\n",
       "      <td>NaN</td>\n",
       "      <td>0.00</td>\n",
       "      <td>0.00</td>\n",
       "      <td>0.00</td>\n",
       "      <td>NaN</td>\n",
       "      <td>0.00</td>\n",
       "      <td>0.00</td>\n",
       "      <td>Cash</td>\n",
       "      <td>Dispatch</td>\n",
       "      <td>NaN</td>\n",
       "    </tr>\n",
       "    <tr>\n",
       "      <th>1661848</th>\n",
       "      <td>Creative Mobile Technologies, LLC</td>\n",
       "      <td>2015-04-30 23:09:05</td>\n",
       "      <td>2015-04-30 23:18:23</td>\n",
       "      <td>N</td>\n",
       "      <td>Negotiated fare</td>\n",
       "      <td>Bronx,Highbridge</td>\n",
       "      <td>Bronx,West Concourse</td>\n",
       "      <td>NaN</td>\n",
       "      <td>1.00</td>\n",
       "      <td>0.00</td>\n",
       "      <td>NaN</td>\n",
       "      <td>0.00</td>\n",
       "      <td>0.00</td>\n",
       "      <td>0.00</td>\n",
       "      <td>NaN</td>\n",
       "      <td>0.00</td>\n",
       "      <td>0.00</td>\n",
       "      <td>Cash</td>\n",
       "      <td>Dispatch</td>\n",
       "      <td>NaN</td>\n",
       "    </tr>\n",
       "    <tr>\n",
       "      <th>1662185</th>\n",
       "      <td>Creative Mobile Technologies, LLC</td>\n",
       "      <td>2015-04-30 23:17:44</td>\n",
       "      <td>2015-04-30 23:30:57</td>\n",
       "      <td>N</td>\n",
       "      <td>Negotiated fare</td>\n",
       "      <td>Bronx,Highbridge</td>\n",
       "      <td>Bronx,University Heights/Morris Heights</td>\n",
       "      <td>1.00</td>\n",
       "      <td>2.30</td>\n",
       "      <td>0.00</td>\n",
       "      <td>NaN</td>\n",
       "      <td>0.00</td>\n",
       "      <td>0.00</td>\n",
       "      <td>0.00</td>\n",
       "      <td>NaN</td>\n",
       "      <td>0.00</td>\n",
       "      <td>0.00</td>\n",
       "      <td>Cash</td>\n",
       "      <td>Dispatch</td>\n",
       "      <td>NaN</td>\n",
       "    </tr>\n",
       "    <tr>\n",
       "      <th>1662829</th>\n",
       "      <td>Creative Mobile Technologies, LLC</td>\n",
       "      <td>2015-04-30 23:01:59</td>\n",
       "      <td>2015-04-30 23:02:40</td>\n",
       "      <td>N</td>\n",
       "      <td>Negotiated fare</td>\n",
       "      <td>Brooklyn,Crown Heights North</td>\n",
       "      <td>Brooklyn,Crown Heights North</td>\n",
       "      <td>1.00</td>\n",
       "      <td>9.10</td>\n",
       "      <td>0.00</td>\n",
       "      <td>NaN</td>\n",
       "      <td>0.00</td>\n",
       "      <td>0.00</td>\n",
       "      <td>0.00</td>\n",
       "      <td>NaN</td>\n",
       "      <td>0.00</td>\n",
       "      <td>0.00</td>\n",
       "      <td>NaN</td>\n",
       "      <td>Dispatch</td>\n",
       "      <td>NaN</td>\n",
       "    </tr>\n",
       "  </tbody>\n",
       "</table>\n",
       "<p>4650 rows × 20 columns</p>\n",
       "</div>"
      ],
      "text/plain": [
       "                                    vendor lpep_pickup_datetime  \\\n",
       "311      Creative Mobile Technologies, LLC  2015-04-01 00:46:12   \n",
       "404      Creative Mobile Technologies, LLC  2015-04-01 00:30:51   \n",
       "587      Creative Mobile Technologies, LLC  2015-04-01 00:05:16   \n",
       "588      Creative Mobile Technologies, LLC  2015-04-01 00:59:42   \n",
       "1663                         VeriFone Inc.  2015-04-01 00:31:42   \n",
       "...                                    ...                  ...   \n",
       "1661314  Creative Mobile Technologies, LLC  2015-04-30 22:27:17   \n",
       "1661448  Creative Mobile Technologies, LLC  2015-04-30 23:55:10   \n",
       "1661848  Creative Mobile Technologies, LLC  2015-04-30 23:09:05   \n",
       "1662185  Creative Mobile Technologies, LLC  2015-04-30 23:17:44   \n",
       "1662829  Creative Mobile Technologies, LLC  2015-04-30 23:01:59   \n",
       "\n",
       "        lpep_dropoff_datetime store_and_fwd_flag        rate_type  \\\n",
       "311       2015-04-01 00:52:32                  N  Negotiated fare   \n",
       "404       2015-04-01 00:41:53                  N  Negotiated fare   \n",
       "587       2015-04-01 00:38:15                  N  Negotiated fare   \n",
       "588       2015-04-01 02:43:06                  N  Negotiated fare   \n",
       "1663      2015-04-01 00:32:04                  N    Standard rate   \n",
       "...                       ...                ...              ...   \n",
       "1661314   2015-04-30 22:38:18                  N  Negotiated fare   \n",
       "1661448   2015-05-01 00:02:53                  N  Negotiated fare   \n",
       "1661848   2015-04-30 23:18:23                  N  Negotiated fare   \n",
       "1662185   2015-04-30 23:30:57                  N  Negotiated fare   \n",
       "1662829   2015-04-30 23:02:40                  N  Negotiated fare   \n",
       "\n",
       "                                  pu_location  \\\n",
       "311                  Bronx,Morrisania/Melrose   \n",
       "404                                Unknown,NV   \n",
       "587               Manhattan,East Harlem North   \n",
       "588               Manhattan,East Harlem North   \n",
       "1663     Queens,Long Island City/Queens Plaza   \n",
       "...                                       ...   \n",
       "1661314    Manhattan,Washington Heights South   \n",
       "1661448        Manhattan,Central Harlem North   \n",
       "1661848                      Bronx,Highbridge   \n",
       "1662185                      Bronx,Highbridge   \n",
       "1662829          Brooklyn,Crown Heights North   \n",
       "\n",
       "                                     do_location  passenger_count  \\\n",
       "311                            Bronx,Hunts Point             1.00   \n",
       "404                   Manhattan,Hamilton Heights             1.00   \n",
       "587                             Manhattan,Inwood             1.00   \n",
       "588                  Manhattan,East Harlem North             1.00   \n",
       "1663        Queens,Long Island City/Queens Plaza             1.00   \n",
       "...                                          ...              ...   \n",
       "1661314           Manhattan,Central Harlem North             2.00   \n",
       "1661448                 Manhattan,Central Harlem             1.00   \n",
       "1661848                     Bronx,West Concourse              NaN   \n",
       "1662185  Bronx,University Heights/Morris Heights             1.00   \n",
       "1662829             Brooklyn,Crown Heights North             1.00   \n",
       "\n",
       "         trip_distance  fare_amount  extra  mta_tax  tip_amount  tolls_amount  \\\n",
       "311               1.30         0.00    NaN     0.00        0.00          0.00   \n",
       "404               2.10         0.00    NaN     0.00        0.00          0.00   \n",
       "587               6.80         0.00    NaN     0.00        0.00          0.00   \n",
       "588              13.50         0.00    NaN     0.00        0.00          0.00   \n",
       "1663              0.00         0.00    NaN     0.00        0.00          0.00   \n",
       "...                ...          ...    ...      ...         ...           ...   \n",
       "1661314           3.00         0.00    NaN     0.00        0.00          0.00   \n",
       "1661448           1.50         0.00    NaN     0.00        0.00          0.00   \n",
       "1661848           1.00         0.00    NaN     0.00        0.00          0.00   \n",
       "1662185           2.30         0.00    NaN     0.00        0.00          0.00   \n",
       "1662829           9.10         0.00    NaN     0.00        0.00          0.00   \n",
       "\n",
       "         ehail_fee  improvement_surcharge  total_amount payment_type  \\\n",
       "311            NaN                   0.00          0.00         Cash   \n",
       "404            NaN                   0.00          0.00    No charge   \n",
       "587            NaN                   0.00          0.00          NaN   \n",
       "588            NaN                   0.00          0.00          NaN   \n",
       "1663           NaN                   0.30          0.00  Credit card   \n",
       "...            ...                    ...           ...          ...   \n",
       "1661314        NaN                   0.00          0.00          NaN   \n",
       "1661448        NaN                   0.00          0.00         Cash   \n",
       "1661848        NaN                   0.00          0.00         Cash   \n",
       "1662185        NaN                   0.00          0.00         Cash   \n",
       "1662829        NaN                   0.00          0.00          NaN   \n",
       "\n",
       "           trip_type  congestion_surcharge  \n",
       "311         Dispatch                   NaN  \n",
       "404         Dispatch                   NaN  \n",
       "587         Dispatch                   NaN  \n",
       "588         Dispatch                   NaN  \n",
       "1663     Street-hail                   NaN  \n",
       "...              ...                   ...  \n",
       "1661314     Dispatch                   NaN  \n",
       "1661448     Dispatch                   NaN  \n",
       "1661848     Dispatch                   NaN  \n",
       "1662185     Dispatch                   NaN  \n",
       "1662829     Dispatch                   NaN  \n",
       "\n",
       "[4650 rows x 20 columns]"
      ]
     },
     "execution_count": 483,
     "metadata": {},
     "output_type": "execute_result"
    },
    {
     "data": {
      "image/png": "[encoded data removed]",
      "text/plain": [
       "<Figure size 640x480 with 1 Axes>"
      ]
     },
     "metadata": {},
     "output_type": "display_data"
    }
   ],
   "source": [
    "fare_zero_df = taxis_df_cleaned[taxis_df_cleaned['total_amount']==0]\n",
    "rate_fare_mean = fare_zero_df.groupby('rate_type')['total_amount'].count()\n",
    "\n",
    "rate_fare_mean.plot(kind='barh', color='skyblue', alpha=0.7)\n",
    "plt.title('Rate Type vs. Mean Fare Amount')\n",
    "plt.xlabel('Rate Type')\n",
    "plt.ylabel('Mean Fare Amount')\n",
    "fare_zero_df"
   ]
  },
  {
   "cell_type": "markdown",
   "metadata": {},
   "source": [
    "## Observing Missing Data"
   ]
  },
  {
   "cell_type": "code",
   "execution_count": 278,
   "metadata": {},
   "outputs": [
    {
     "data": {
      "text/plain": [
       "vendor                    0.00\n",
       "lpep_pickup_datetime      0.00\n",
       "lpep_dropoff_datetime     0.00\n",
       "store_and_fwd_flag        0.00\n",
       "rate_type                 0.00\n",
       "pu_location               0.00\n",
       "do_location               0.00\n",
       "passenger_count           0.04\n",
       "trip_distance             0.00\n",
       "fare_amount               0.00\n",
       "extra                    44.44\n",
       "mta_tax                   0.00\n",
       "tip_amount                0.00\n",
       "tolls_amount              0.00\n",
       "ehail_fee               100.00\n",
       "improvement_surcharge     0.00\n",
       "total_amount              0.00\n",
       "payment_type              4.00\n",
       "trip_type                 0.00\n",
       "congestion_surcharge    100.00\n",
       "dtype: float64"
      ]
     },
     "execution_count": 278,
     "metadata": {},
     "output_type": "execute_result"
    }
   ],
   "source": [
    "perc_null_mean = taxis_df.isnull().mean()*100\n",
    "perc_null_mean"
   ]
  },
  {
   "cell_type": "markdown",
   "metadata": {},
   "source": [
    "\n",
    "We could observe that:\n",
    "- \"ehail_fee\" and \"congestion_surcharge\" are completely missing.\n",
    "- Passenger count have few records that are missing, with a low percentage of 0.04%\n",
    "- In the \"extra\" column, almost half of the entries are missing with a percentage of 44.44%\n",
    "- Payment type column also have about 4% of the entries missing."
   ]
  },
  {
   "cell_type": "markdown",
   "metadata": {},
   "source": [
    "## Handling Missing data"
   ]
  },
  {
   "cell_type": "markdown",
   "metadata": {},
   "source": [
    "### Helper Handler Functions for Missing Data"
   ]
  },
  {
   "cell_type": "code",
   "execution_count": 353,
   "metadata": {},
   "outputs": [],
   "source": [
    "def drop_columns(dataframe, columns_to_drop):\n",
    "    cleaned_dataframe = dataframe.drop(columns_to_drop, axis=1)\n",
    "    return cleaned_dataframe\n",
    "\n",
    "def impute_with_median(dataframe, column_name, inplace=True):\n",
    "    median_value = dataframe[column_name].median()\n",
    "    dataframe[column_name].fillna(median_value, inplace=inplace)\n",
    "    return dataframe\n",
    "\n",
    "def impute_with_mode(dataframe, column_name, inplace=True):\n",
    "    mode_value = dataframe[column_name].mode()[0] \n",
    "    dataframe[column_name].fillna(mode_value, inplace=inplace)\n",
    "    return dataframe\n",
    "\n",
    "def impute_with_value(dataframe, column_name, impute_value, inplace=True):\n",
    "    dataframe[column_name].fillna(impute_value, inplace=inplace)\n",
    "    return dataframe\n",
    "\n",
    "def replace_missing_value(dataframe, value_to_replace):\n",
    "    return dataframe.replace(value_to_replace, np.nan)\n"
   ]
  },
  {
   "cell_type": "markdown",
   "metadata": {},
   "source": [
    "### Ehail Fee and Congestion Surcharge handling"
   ]
  },
  {
   "cell_type": "markdown",
   "metadata": {},
   "source": [
    "Since those columns are completely missing from the table, a good option is to omit both columns entirely from our table. \n",
    "Imputation methods like mean, median, mode, or specific value imputation are not a valid way to handle the missing values in those columns as they require existing data values within the column to calculate and replace missing values. When a column is entirely missing, there are no values to calculate statistics from, making imputation impossible. Also, we can't also delete the records where this field is missing as we be deleting the entire table in this case."
   ]
  },
  {
   "cell_type": "code",
   "execution_count": 325,
   "metadata": {},
   "outputs": [
    {
     "data": {
      "text/plain": [
       "Index(['vendor', 'lpep_pickup_datetime', 'lpep_dropoff_datetime',\n",
       "       'store_and_fwd_flag', 'rate_type', 'pu_location', 'do_location',\n",
       "       'passenger_count', 'trip_distance', 'fare_amount', 'extra', 'mta_tax',\n",
       "       'tip_amount', 'tolls_amount', 'improvement_surcharge', 'total_amount',\n",
       "       'payment_type', 'trip_type'],\n",
       "      dtype='object')"
      ]
     },
     "execution_count": 325,
     "metadata": {},
     "output_type": "execute_result"
    }
   ],
   "source": [
    "taxis_df_cleaned = drop_columns(taxis_df, ['ehail_fee', 'congestion_surcharge'])\n",
    "taxis_df_cleaned.columns"
   ]
  },
  {
   "cell_type": "markdown",
   "metadata": {},
   "source": [
    "### Passenger Count handling"
   ]
  },
  {
   "cell_type": "markdown",
   "metadata": {},
   "source": [
    "Deleting the rows where passenger count is null or empty is an option, but other features/columns in the rest of the row will be emitted and lost. Instead,the values will be imputed for passenger count column since the missingness in it is relatively low.\n",
    "Let's check first if we will use the mean or median depending on the skewiness of it."
   ]
  },
  {
   "cell_type": "code",
   "execution_count": 311,
   "metadata": {},
   "outputs": [
    {
     "data": {
      "text/plain": [
       "(1, 444, 119.27529764273699)"
      ]
     },
     "execution_count": 311,
     "metadata": {},
     "output_type": "execute_result"
    }
   ],
   "source": [
    "taxis_df_cleaned.passenger_count.min(),\\\n",
    "taxis_df_cleaned.passenger_count.max(),\\\n",
    "taxis_df_cleaned.passenger_count.skew()"
   ]
  },
  {
   "cell_type": "markdown",
   "metadata": {},
   "source": [
    "Based on the result shown above, the graph is positively skewed, and hence a median is a better choice for filling the missing values as the mean gets affected by skewiness and outliers which wouldn't be a good option in this case."
   ]
  },
  {
   "cell_type": "code",
   "execution_count": 326,
   "metadata": {},
   "outputs": [],
   "source": [
    "taxis_df_cleaned = impute_with_median(taxis_df_cleaned, 'passenger_count')"
   ]
  },
  {
   "cell_type": "markdown",
   "metadata": {},
   "source": [
    "#### Check that passenger count contains no missing values."
   ]
  },
  {
   "cell_type": "code",
   "execution_count": 327,
   "metadata": {},
   "outputs": [
    {
     "data": {
      "text/plain": [
       "array([  1.,   2.,   5.,   3.,   4.,   6.,   8., 444.,   7.,   9.])"
      ]
     },
     "execution_count": 327,
     "metadata": {},
     "output_type": "execute_result"
    }
   ],
   "source": [
    "unique_passenger_count_values = taxis_df_cleaned['passenger_count'].unique()\n",
    "unique_passenger_count_values"
   ]
  },
  {
   "cell_type": "code",
   "execution_count": 328,
   "metadata": {},
   "outputs": [
    {
     "data": {
      "text/plain": [
       "0"
      ]
     },
     "execution_count": 328,
     "metadata": {},
     "output_type": "execute_result"
    }
   ],
   "source": [
    "sum_passenger_count = taxis_df_cleaned['passenger_count'].isna().sum()\n",
    "sum_passenger_count"
   ]
  },
  {
   "cell_type": "markdown",
   "metadata": {},
   "source": [
    "We can see that the passenger count has been cleaned successfully. The count of missing values is 0 and NaN doesn't exist within the column's unique values."
   ]
  },
  {
   "cell_type": "markdown",
   "metadata": {},
   "source": [
    "#### Typecast Passenger Count column into integer instead of float for data to be consistent"
   ]
  },
  {
   "cell_type": "code",
   "execution_count": 329,
   "metadata": {},
   "outputs": [],
   "source": [
    "taxis_df_cleaned['passenger_count'] = taxis_df_cleaned.passenger_count.astype(int)"
   ]
  },
  {
   "cell_type": "code",
   "execution_count": 351,
   "metadata": {
    "scrolled": true
   },
   "outputs": [
    {
     "data": {
      "text/plain": [
       "dtype('int32')"
      ]
     },
     "execution_count": 351,
     "metadata": {},
     "output_type": "execute_result"
    }
   ],
   "source": [
    "taxis_df_cleaned.passenger_count.dtype"
   ]
  },
  {
   "cell_type": "markdown",
   "metadata": {},
   "source": [
    "### Payment Type handling"
   ]
  },
  {
   "cell_type": "markdown",
   "metadata": {},
   "source": [
    "Similar to the passenger count, the value will be imputed. Since the field is categorical, we'll choose to impute using the mode as there are no numerical data to impute with median or mode."
   ]
  },
  {
   "cell_type": "code",
   "execution_count": 352,
   "metadata": {},
   "outputs": [
    {
     "data": {
      "text/plain": [
       "0    Cash\n",
       "Name: payment_type, dtype: object"
      ]
     },
     "execution_count": 352,
     "metadata": {},
     "output_type": "execute_result"
    }
   ],
   "source": [
    "taxis_df_cleaned.payment_type.mode()"
   ]
  },
  {
   "cell_type": "code",
   "execution_count": 336,
   "metadata": {},
   "outputs": [
    {
     "data": {
      "text/plain": [
       "payment_type\n",
       "Cash           859237\n",
       "Credit card    729346\n",
       "Dispute          4684\n",
       "No charge        4422\n",
       "Uknown             67\n",
       "Name: count, dtype: int64"
      ]
     },
     "execution_count": 336,
     "metadata": {},
     "output_type": "execute_result"
    }
   ],
   "source": [
    "taxis_df_cleaned.payment_type.value_counts()"
   ]
  },
  {
   "cell_type": "markdown",
   "metadata": {},
   "source": [
    "We can see that there is a value \"Uknown\" in the payments type column, which can also be considered as missing. Before imputing, we will convert this value to a missing value recognizable by pandas, so that this value is imputed as well."
   ]
  },
  {
   "cell_type": "code",
   "execution_count": 343,
   "metadata": {},
   "outputs": [
    {
     "name": "stdout",
     "output_type": "stream",
     "text": [
      "payment_type\n",
      "Cash           925885\n",
      "Credit card    729346\n",
      "Dispute          4684\n",
      "No charge        4422\n",
      "Name: count, dtype: int64\n",
      "['Cash' 'Credit card' 'No charge' 'Dispute' nan]\n"
     ]
    }
   ],
   "source": [
    "taxis_df_cleaned = replace_missing_value(taxis_df_cleaned,'Uknown')\n",
    "print(taxis_df_cleaned.payment_type.value_counts())\n",
    "print(taxis_df_cleaned.payment_type.unique())"
   ]
  },
  {
   "cell_type": "markdown",
   "metadata": {},
   "source": [
    "'Uknown' has been removed and replaced with NaN instead as shown above."
   ]
  },
  {
   "cell_type": "code",
   "execution_count": 344,
   "metadata": {},
   "outputs": [],
   "source": [
    "taxis_df_cleaned = impute_with_mode(taxis_df_cleaned, 'payment_type')"
   ]
  },
  {
   "cell_type": "markdown",
   "metadata": {},
   "source": [
    "#### Check that payment type contains no missing values."
   ]
  },
  {
   "cell_type": "code",
   "execution_count": 345,
   "metadata": {},
   "outputs": [
    {
     "data": {
      "text/plain": [
       "array(['Cash', 'Credit card', 'No charge', 'Dispute'], dtype=object)"
      ]
     },
     "execution_count": 345,
     "metadata": {},
     "output_type": "execute_result"
    }
   ],
   "source": [
    "unique_payment_type_values = taxis_df_cleaned['payment_type'].unique()\n",
    "unique_payment_type_values"
   ]
  },
  {
   "cell_type": "code",
   "execution_count": 346,
   "metadata": {},
   "outputs": [
    {
     "data": {
      "text/plain": [
       "0"
      ]
     },
     "execution_count": 346,
     "metadata": {},
     "output_type": "execute_result"
    }
   ],
   "source": [
    "sum_payment_type = taxis_df_cleaned['payment_type'].isna().sum()\n",
    "sum_payment_type"
   ]
  },
  {
   "cell_type": "markdown",
   "metadata": {},
   "source": [
    "We can see that the payment type has been cleaned successfully. The count of missing values is 0 and NaN as well 'Uknown' do not exist within the column's unique values."
   ]
  },
  {
   "cell_type": "markdown",
   "metadata": {},
   "source": [
    "However imputing all values as 'Cash' only may not be very accurate in our case as based on the description, if a tip amount exists, then the payment type must be credit card. As a solution, we'll convert any row with a non-zero tip amount into 'Credit card'."
   ]
  },
  {
   "cell_type": "code",
   "execution_count": 348,
   "metadata": {},
   "outputs": [],
   "source": [
    "taxis_df_cleaned.loc[taxis_df_cleaned['tip_amount'] > 0, 'payment_type'] = 'Credit card'"
   ]
  },
  {
   "cell_type": "markdown",
   "metadata": {},
   "source": [
    "Let's verify that there doesn't exist now any row with a non-zero tip amount and with a different payment type than 'Credit card'."
   ]
  },
  {
   "cell_type": "code",
   "execution_count": 350,
   "metadata": {},
   "outputs": [
    {
     "data": {
      "text/plain": [
       "0"
      ]
     },
     "execution_count": 350,
     "metadata": {},
     "output_type": "execute_result"
    }
   ],
   "source": [
    "non_zero_tip_and_not_credit_card = taxis_df_cleaned[\n",
    "    (taxis_df_cleaned['tip_amount'] > 0) & (taxis_df_cleaned['payment_type'] != 'Credit card')\n",
    "]\n",
    "len(non_zero_tip_and_not_credit_card)"
   ]
  },
  {
   "cell_type": "markdown",
   "metadata": {},
   "source": [
    "### Extra Column handling"
   ]
  },
  {
   "cell_type": "markdown",
   "metadata": {},
   "source": [
    "This column has a relatively high percentage of 44.44%. The reason why it is this high is because maybe many of the trips don't need to include an extra charge on the passenger. As a solution to that, it's logical to assign a value of 0 when it is missing."
   ]
  },
  {
   "cell_type": "code",
   "execution_count": 354,
   "metadata": {},
   "outputs": [],
   "source": [
    "taxis_df_cleaned = impute_with_value(taxis_df_cleaned, 'extra', 0)"
   ]
  },
  {
   "cell_type": "markdown",
   "metadata": {},
   "source": [
    "Let's verify that the extra column was actually cleaned and doesn't contain any missing values."
   ]
  },
  {
   "cell_type": "code",
   "execution_count": 356,
   "metadata": {},
   "outputs": [
    {
     "data": {
      "text/plain": [
       "array([ 0.5 , -0.5 ,  0.  ,  1.  , -1.  ,  5.  , 16.  ,  0.25])"
      ]
     },
     "execution_count": 356,
     "metadata": {},
     "output_type": "execute_result"
    }
   ],
   "source": [
    "taxis_df_cleaned.extra.unique()"
   ]
  },
  {
   "cell_type": "code",
   "execution_count": 355,
   "metadata": {},
   "outputs": [
    {
     "data": {
      "text/plain": [
       "0"
      ]
     },
     "execution_count": 355,
     "metadata": {},
     "output_type": "execute_result"
    }
   ],
   "source": [
    "taxis_df_cleaned.extra.isna().sum()"
   ]
  },
  {
   "cell_type": "markdown",
   "metadata": {},
   "source": [
    "### Final check across all columns that data is cleaned"
   ]
  },
  {
   "cell_type": "code",
   "execution_count": 358,
   "metadata": {},
   "outputs": [
    {
     "name": "stdout",
     "output_type": "stream",
     "text": [
      "<class 'pandas.core.frame.DataFrame'>\n",
      "RangeIndex: 1664404 entries, 0 to 1664403\n",
      "Data columns (total 18 columns):\n",
      " #   Column                 Non-Null Count    Dtype  \n",
      "---  ------                 --------------    -----  \n",
      " 0   vendor                 1664404 non-null  object \n",
      " 1   lpep_pickup_datetime   1664404 non-null  object \n",
      " 2   lpep_dropoff_datetime  1664404 non-null  object \n",
      " 3   store_and_fwd_flag     1664404 non-null  object \n",
      " 4   rate_type              1664404 non-null  object \n",
      " 5   pu_location            1664404 non-null  object \n",
      " 6   do_location            1664404 non-null  object \n",
      " 7   passenger_count        1664404 non-null  int32  \n",
      " 8   trip_distance          1664404 non-null  float64\n",
      " 9   fare_amount            1664404 non-null  float64\n",
      " 10  extra                  1664404 non-null  float64\n",
      " 11  mta_tax                1664404 non-null  float64\n",
      " 12  tip_amount             1664404 non-null  float64\n",
      " 13  tolls_amount           1664404 non-null  float64\n",
      " 14  improvement_surcharge  1664404 non-null  float64\n",
      " 15  total_amount           1664404 non-null  float64\n",
      " 16  payment_type           1664404 non-null  object \n",
      " 17  trip_type              1664404 non-null  object \n",
      "dtypes: float64(8), int32(1), object(9)\n",
      "memory usage: 222.2+ MB\n"
     ]
    }
   ],
   "source": [
    "taxis_df_cleaned.info()"
   ]
  },
  {
   "cell_type": "markdown",
   "metadata": {},
   "source": [
    "We can see that number of non-null entries in each column is equal to the number of records in our table."
   ]
  },
  {
   "cell_type": "markdown",
   "metadata": {},
   "source": [
    "## Observing outliers"
   ]
  },
  {
   "cell_type": "code",
   "execution_count": null,
   "metadata": {},
   "outputs": [],
   "source": []
  },
  {
   "cell_type": "code",
   "execution_count": null,
   "metadata": {},
   "outputs": [],
   "source": []
  },
  {
   "cell_type": "code",
   "execution_count": null,
   "metadata": {},
   "outputs": [],
   "source": []
  },
  {
   "cell_type": "markdown",
   "metadata": {},
   "source": [
    "## Handling outliers"
   ]
  },
  {
   "cell_type": "code",
   "execution_count": null,
   "metadata": {},
   "outputs": [],
   "source": []
  },
  {
   "cell_type": "code",
   "execution_count": null,
   "metadata": {},
   "outputs": [],
   "source": []
  },
  {
   "cell_type": "code",
   "execution_count": null,
   "metadata": {},
   "outputs": [],
   "source": []
  },
  {
   "cell_type": "markdown",
   "metadata": {},
   "source": [
    "## Findings and conclusions"
   ]
  },
  {
   "cell_type": "code",
   "execution_count": null,
   "metadata": {},
   "outputs": [],
   "source": []
  },
  {
   "cell_type": "code",
   "execution_count": null,
   "metadata": {},
   "outputs": [],
   "source": []
  },
  {
   "cell_type": "code",
   "execution_count": null,
   "metadata": {},
   "outputs": [],
   "source": []
  },
  {
   "cell_type": "markdown",
   "metadata": {},
   "source": [
    "# Data transformation and feature eng."
   ]
  },
  {
   "cell_type": "markdown",
   "metadata": {},
   "source": [
    "## 4.1 - Discretization"
   ]
  },
  {
   "cell_type": "code",
   "execution_count": null,
   "metadata": {},
   "outputs": [],
   "source": []
  },
  {
   "cell_type": "code",
   "execution_count": null,
   "metadata": {},
   "outputs": [],
   "source": []
  },
  {
   "cell_type": "code",
   "execution_count": null,
   "metadata": {},
   "outputs": [],
   "source": []
  },
  {
   "cell_type": "markdown",
   "metadata": {},
   "source": [
    "## 4.11 - Findings and conclusions"
   ]
  },
  {
   "cell_type": "code",
   "execution_count": null,
   "metadata": {},
   "outputs": [],
   "source": []
  },
  {
   "cell_type": "code",
   "execution_count": null,
   "metadata": {},
   "outputs": [],
   "source": []
  },
  {
   "cell_type": "code",
   "execution_count": null,
   "metadata": {},
   "outputs": [],
   "source": []
  },
  {
   "cell_type": "markdown",
   "metadata": {},
   "source": [
    "## 4.2 - Encoding"
   ]
  },
  {
   "cell_type": "code",
   "execution_count": null,
   "metadata": {},
   "outputs": [],
   "source": []
  },
  {
   "cell_type": "code",
   "execution_count": null,
   "metadata": {},
   "outputs": [],
   "source": []
  },
  {
   "cell_type": "code",
   "execution_count": null,
   "metadata": {},
   "outputs": [],
   "source": []
  },
  {
   "cell_type": "markdown",
   "metadata": {},
   "source": [
    "## 4.22 - Findings and conlcusions"
   ]
  },
  {
   "cell_type": "code",
   "execution_count": null,
   "metadata": {},
   "outputs": [],
   "source": []
  },
  {
   "cell_type": "code",
   "execution_count": null,
   "metadata": {},
   "outputs": [],
   "source": []
  },
  {
   "cell_type": "code",
   "execution_count": null,
   "metadata": {},
   "outputs": [],
   "source": []
  },
  {
   "cell_type": "markdown",
   "metadata": {},
   "source": [
    "## 4.3 - Normalisation "
   ]
  },
  {
   "cell_type": "code",
   "execution_count": null,
   "metadata": {},
   "outputs": [],
   "source": []
  },
  {
   "cell_type": "code",
   "execution_count": null,
   "metadata": {},
   "outputs": [],
   "source": []
  },
  {
   "cell_type": "code",
   "execution_count": null,
   "metadata": {},
   "outputs": [],
   "source": []
  },
  {
   "cell_type": "markdown",
   "metadata": {},
   "source": [
    "## 4.31 - Findings and conclusions"
   ]
  },
  {
   "cell_type": "code",
   "execution_count": null,
   "metadata": {},
   "outputs": [],
   "source": []
  },
  {
   "cell_type": "code",
   "execution_count": null,
   "metadata": {},
   "outputs": [],
   "source": []
  },
  {
   "cell_type": "code",
   "execution_count": null,
   "metadata": {},
   "outputs": [],
   "source": []
  },
  {
   "cell_type": "markdown",
   "metadata": {},
   "source": [
    "## 4.4 - Adding more features(feature eng.)"
   ]
  },
  {
   "cell_type": "code",
   "execution_count": null,
   "metadata": {},
   "outputs": [],
   "source": []
  },
  {
   "cell_type": "code",
   "execution_count": null,
   "metadata": {},
   "outputs": [],
   "source": []
  },
  {
   "cell_type": "code",
   "execution_count": null,
   "metadata": {},
   "outputs": [],
   "source": []
  },
  {
   "cell_type": "markdown",
   "metadata": {},
   "source": [
    "## 4.41 - Findings and concluisons"
   ]
  },
  {
   "cell_type": "code",
   "execution_count": null,
   "metadata": {},
   "outputs": [],
   "source": []
  },
  {
   "cell_type": "code",
   "execution_count": null,
   "metadata": {},
   "outputs": [],
   "source": []
  },
  {
   "cell_type": "markdown",
   "metadata": {},
   "source": [
    "## 4.5 - Additional data extraction (GPS coordinates)"
   ]
  },
  {
   "cell_type": "code",
   "execution_count": null,
   "metadata": {},
   "outputs": [],
   "source": []
  },
  {
   "cell_type": "code",
   "execution_count": null,
   "metadata": {},
   "outputs": [],
   "source": []
  },
  {
   "cell_type": "markdown",
   "metadata": {},
   "source": [
    "## 4.6 - Csv file for lookup"
   ]
  },
  {
   "cell_type": "code",
   "execution_count": null,
   "metadata": {},
   "outputs": [],
   "source": []
  },
  {
   "cell_type": "code",
   "execution_count": null,
   "metadata": {},
   "outputs": [],
   "source": []
  },
  {
   "cell_type": "code",
   "execution_count": null,
   "metadata": {},
   "outputs": [],
   "source": []
  },
  {
   "cell_type": "markdown",
   "metadata": {},
   "source": [
    "## 5- Exporting the dataframe to a csv file or parquet"
   ]
  },
  {
   "cell_type": "code",
   "execution_count": null,
   "metadata": {},
   "outputs": [],
   "source": [
    "df_stack_overflow.to_csv(data_dir + 'survey_results_clean.csv',index=False)"
   ]
  },
  {
   "cell_type": "code",
   "execution_count": null,
   "metadata": {},
   "outputs": [],
   "source": []
  }
 ],
 "metadata": {
  "kernelspec": {
   "display_name": "Python 3 (ipykernel)",
   "language": "python",
   "name": "python3"
  },
  "language_info": {
   "codemirror_mode": {
    "name": "ipython",
    "version": 3
   },
   "file_extension": ".py",
   "mimetype": "text/x-python",
   "name": "python",
   "nbconvert_exporter": "python",
   "pygments_lexer": "ipython3",
   "version": "3.11.5"
  }
 },
 "nbformat": 4,
 "nbformat_minor": 4
}
